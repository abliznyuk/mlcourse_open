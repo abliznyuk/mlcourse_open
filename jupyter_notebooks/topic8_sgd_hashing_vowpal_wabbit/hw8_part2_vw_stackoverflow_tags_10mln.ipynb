{
 "cells": [
  {
   "cell_type": "markdown",
   "metadata": {},
   "source": [
    "<center>\n",
    "<img src=\"../../img/ods_stickers.jpg\">\n",
    "## Открытый курс по машинному обучению\n",
    "</center>\n",
    "<center>Автор материала: программист-исследователь Mail.ru Group, старший преподаватель <br>Факультета Компьютерных Наук ВШЭ Юрий Кашницкий"
   ]
  },
  {
   "cell_type": "markdown",
   "metadata": {},
   "source": [
    "# <center> Домашнее задание № 8. Часть 2\n",
    "## <center> Vowpal Wabbit в задаче классификации тегов вопросов на Stackoverflow"
   ]
  },
  {
   "cell_type": "markdown",
   "metadata": {},
   "source": [
    "## План 2 части домашнего задания\n",
    "    2.1. Введение\n",
    "    2.2. Описание данных\n",
    "    2.3. Предобработка данных\n",
    "    2.4. Обучение и проверка моделей\n",
    "    2.5. Заключение"
   ]
  },
  {
   "cell_type": "markdown",
   "metadata": {},
   "source": [
    "### 2.1. Введение\n",
    "\n",
    "В этом задании вы будете делать примерно то же, что я каждую неделю –  в Mail.ru Group: обучать модели на выборке в несколько гигабайт. Задание можно выполнить и на Windows с Python, но я рекомендую поработать под \\*NIX-системой (например, через Docker) и активно использовать язык bash.\n",
    "Немного снобизма (простите, но правда): если вы захотите работать в лучших компаниях мира в области ML, вам все равно понадобится опыт работы с bash под UNIX.\n",
    "\n",
    "[Веб-форма](https://goo.gl/forms/z8zENbMiaEAeB7nG3) для ответов.\n",
    "\n",
    "Для выполнения задания понадобится установленный Vowpal Wabbit (уже есть в докер-контейнере курса, см. инструкцию в README [репозитория](https://github.com/Yorko/mlcourse_open) нашего курса) и примерно 70 Гб дискового пространства. Я тестировал решение не на каком-то суперкомпе, а на Macbook Pro 2015 (8 ядер, 16 Гб памяти), и самая тяжеловесная модель обучалась около 12 минут, так что задание реально выполнить и с простым железом. Но если вы планируете когда-либо арендовать сервера Amazon, можно попробовать это сделать уже сейчас.\n",
    "\n",
    "Материалы в помощь:\n",
    " - интерактивный [тьюториал](https://www.codecademy.com/en/courses/learn-the-command-line/lessons/environment/exercises/bash-profile) CodeAcademy по утилитам командной строки UNIX (примерно на час-полтора)\n",
    " - [статья](https://habrahabr.ru/post/280562/) про то, как арендовать на Amazon машину (еще раз: это не обязательно для выполнения задания, но будет хорошим опытом, если вы это делаете впервые)"
   ]
  },
  {
   "cell_type": "markdown",
   "metadata": {},
   "source": [
    "### 2.2. Описание данных"
   ]
  },
  {
   "cell_type": "markdown",
   "metadata": {},
   "source": [
    "Имеются 10 Гб вопросов со StackOverflow – [скачайте](https://yadi.sk/d/krikdUic3Ggjyf) эту выборку. \n",
    "\n",
    "Формат данных простой:<br>\n",
    "<center>*текст вопроса* (слова через пробел) TAB *теги вопроса* (через пробел)\n",
    "\n",
    "Здесь TAB – это символ табуляции.\n",
    "Пример первой записи в выборке:"
   ]
  },
  {
   "cell_type": "code",
   "execution_count": 1,
   "metadata": {
    "collapsed": false
   },
   "outputs": [
    {
     "name": "stdout",
     "output_type": "stream",
     "text": [
      " is there a way to apply a background color through css at the tr level i can apply it at the td level like this my td background color e8e8e8 background e8e8e8 however the background color doesn t seem to get applied when i attempt to apply the background color at the tr level like this my tr background color e8e8e8 background e8e8e8 is there a css trick to making this work or does css not natively support this for some reason \tcss css3 css-selectors\r\n"
     ]
    }
   ],
   "source": [
    "!head -1 ../../data/stackoverflow.10kk.tsv"
   ]
  },
  {
   "cell_type": "markdown",
   "metadata": {},
   "source": [
    "Здесь у нас текст вопроса, затем табуляция и теги вопроса: *css, css3* и *css-selectors*. Всего в выборке таких вопросов 10 миллионов. "
   ]
  },
  {
   "cell_type": "code",
   "execution_count": 2,
   "metadata": {
    "collapsed": false
   },
   "outputs": [
    {
     "name": "stdout",
     "output_type": "stream",
     "text": [
      " 10000000 ../../data/stackoverflow.10kk.tsv\n",
      "CPU times: user 526 ms, sys: 183 ms, total: 709 ms\n",
      "Wall time: 26.5 s\n"
     ]
    }
   ],
   "source": [
    "%%time\n",
    "!wc -l ../../data/stackoverflow.10kk.tsv"
   ]
  },
  {
   "cell_type": "markdown",
   "metadata": {},
   "source": [
    "Обратите внимание на то, что такие данные я уже не хочу загружать в оперативную память и, пока можно, буду пользоваться эффективными утилитами UNIX –  head, tail, wc, cat, cut и прочими."
   ]
  },
  {
   "cell_type": "markdown",
   "metadata": {},
   "source": [
    "### 2.3. Предобработка данных"
   ]
  },
  {
   "cell_type": "markdown",
   "metadata": {},
   "source": [
    "Давайте выберем в наших данных все вопросы с тегами *javascript, java, python, ruby, php, c++, c#, go, scala* и  *swift* и подготовим обучающую выборку в формате Vowpal Wabbit. Будем решать задачу 10-классовой классификации вопросов по перечисленным тегам.\n",
    "\n",
    "Вообще, как мы видим, у каждого вопроса может быть несколько тегов, но мы упростим себе задачу и будем у каждого вопроса выбирать один из перечисленных тегов либо игнорировать вопрос, если таковых тегов нет. \n",
    "Но вообще VW поддерживает multilabel classification (аргумент  --multilabel_oaa).\n",
    "<br>\n",
    "<br>\n",
    "Реализуйте в виде отдельного файла `preprocess.py` код для подготовки данных. Он должен отобрать строки, в которых есть перечисленные теги, и переписать их в отдельный файл в формат Vowpal Wabbit. Детали:\n",
    " - скрипт должен работать с аргументами командной строки: с путями к файлам на входе и на выходе\n",
    " - строки обрабатываются по одной (можно использовать tqdm для подсчета числа итераций)\n",
    " - если табуляций в строке нет или их больше одной, считаем строку поврежденной и пропускаем\n",
    " - в противном случае смотрим, сколько в строке тегов из списка *javascript, java, python, ruby, php, c++, c#, go, scala* и  *swift*. Если ровно один, то записываем строку в выходной файл в формате VW: `label | text`, где `label` – число от 1 до 10 (1 - *javascript*, ... 10 – *swift*). Пропускаем те строки, где интересующих тегов больше или меньше одного \n",
    " - из текста вопроса надо выкинуть двоеточия и вертикальные палки, если они есть – в VW это спецсимволы"
   ]
  },
  {
   "cell_type": "code",
   "execution_count": 3,
   "metadata": {
    "collapsed": true
   },
   "outputs": [],
   "source": [
    "import os\n",
    "from tqdm import tqdm\n",
    "from time import time\n",
    "import numpy as np\n",
    "from sklearn.metrics import accuracy_score"
   ]
  },
  {
   "cell_type": "markdown",
   "metadata": {
    "collapsed": true
   },
   "source": [
    "Должно получиться вот такое число строк – 4389054. Как видите, 10 Гб у меня обработались примерно за полторы минуты."
   ]
  },
  {
   "cell_type": "code",
   "execution_count": 4,
   "metadata": {
    "collapsed": false
   },
   "outputs": [
    {
     "name": "stdout",
     "output_type": "stream",
     "text": [
      "10000000it [02:23, 69815.29it/s]\n"
     ]
    }
   ],
   "source": [
    "!python preprocess.py ../../data/stackoverflow.10kk.tsv ../../data/stackoverflow.vw"
   ]
  },
  {
   "cell_type": "markdown",
   "metadata": {},
   "source": [
    "Поделите выборку на обучающую, проверочную и тестовую части в равной пропорции - по  1463018 в каждый файл. Перемешивать не надо, первые 1463018 строк должны пойти в обучающую часть `stackoverflow_train.vw`, последние 1463018 – в тестовую `stackoverflow_test.vw`, оставшиеся – в проверочную `stackoverflow_valid.vw`. \n",
    "\n",
    "Также сохраните векторы ответов для проверочной и тестовой выборки в отдельные файлы `stackoverflow_valid_labels.txt` и `stackoverflow_test_labels.txt`.\n",
    "\n",
    "Тут вам помогут утилиты `head`, `tail`, `split`, `cat` и `cut`."
   ]
  },
  {
   "cell_type": "code",
   "execution_count": 5,
   "metadata": {
    "collapsed": false
   },
   "outputs": [
    {
     "name": "stdout",
     "output_type": "stream",
     "text": [
      "1 |text i ve got some code in window scroll that checks if an element is visible then triggers another function however only the first section of code is firing both bits of code work in and of themselves if i swap their order whichever is on top fires correctly my code is as follows fn isonscreen function use strict var win window viewport top win scrolltop left win scrollleft bounds this offset viewport right viewport left + win width viewport bottom viewport top + win height bounds right bounds left + this outerwidth bounds bottom bounds top + this outerheight return viewport right lt bounds left viewport left gt bounds right viewport bottom lt bounds top viewport top gt bounds bottom window scroll function use strict var load_more_results ajax load_more_results isonscreen if load_more_results true loadmoreresults var load_more_staff ajax load_more_staff isonscreen if load_more_staff true loadmorestaff what am i doing wrong can you only fire one event from window scroll i assume not \n",
      " 4389054 ../../data/stackoverflow.vw\n",
      "1463018it [00:25, 56319.29it/s]\n",
      "1463018it [00:27, 53298.60it/s]\n"
     ]
    }
   ],
   "source": [
    "!head -1 ../../data/stackoverflow.vw\n",
    "!wc -l ../../data/stackoverflow.vw\n",
    "\n",
    "!split -l 1463018 ../../data/stackoverflow.vw\n",
    "!mv xaa ../../data/stackoverflow_train.vw\n",
    "!mv xab ../../data/stackoverflow_test.vw\n",
    "!mv xac ../../data/stackoverflow_valid.vw\n",
    "!rm ../../data/stackoverflow.vw\n",
    "\n",
    "!rm ../../data/stackoverflow_test_labels.txt 2> /dev/null\n",
    "!rm ../../data/stackoverflow_valid_labels.txt 2> /dev/null\n",
    "\n",
    "!cat ../../data/stackoverflow_test.vw | tqdm | cut -d' ' -f1 > ../../data/stackoverflow_test_labels.txt\n",
    "!cat ../../data/stackoverflow_valid.vw | tqdm | cut -d' ' -f1 > ../../data/stackoverflow_valid_labels.txt"
   ]
  },
  {
   "cell_type": "markdown",
   "metadata": {},
   "source": [
    "### 2.4. Обучение и проверка моделей"
   ]
  },
  {
   "cell_type": "markdown",
   "metadata": {},
   "source": [
    "Обучите Vowpal Wabbit на выборке `stackoverflow_train.vw` 9 раз, перебирая параметры passes (1,3,5), ngram (1,2,3).\n",
    "Остальные параметры укажите следующие: bit_precision=28 и seed=17. Также скажите VW, что это 10-классовая задача.\n",
    "\n",
    "Проверяйте долю правильных ответов на выборке `stackoverflow_valid.vw`. Выберите лучшую модель и проверьте качество на выборке `stackoverflow_test.vw`."
   ]
  },
  {
   "cell_type": "code",
   "execution_count": 6,
   "metadata": {
    "collapsed": true
   },
   "outputs": [],
   "source": [
    "def accuracy_on(true_file, predict_file):\n",
    "    y_true = np.loadtxt(true_file)\n",
    "    y_pred = np.loadtxt(predict_file)\n",
    "    return accuracy_score(y_true, y_pred)\n",
    "\n",
    "\n",
    "def accuracy_on_validation(predict_file):\n",
    "    return accuracy_on('../../data/stackoverflow_valid_labels.txt', predict_file)\n",
    "\n",
    "\n",
    "def accuracy_on_test(predict_file):\n",
    "    return accuracy_on('../../data/stackoverflow_test_labels.txt', predict_file)"
   ]
  },
  {
   "cell_type": "code",
   "execution_count": 7,
   "metadata": {
    "collapsed": false
   },
   "outputs": [
    {
     "name": "stdout",
     "output_type": "stream",
     "text": [
      "1u: 0.915151419873\n",
      "1b: 0.930828602245\n",
      "1t: 0.929616723786\n",
      "3u: 0.914390663683\n",
      "3b: 0.928217561233\n",
      "3t: 0.926844372386\n",
      "5u: 0.913746789171\n",
      "5b: 0.92932417783\n",
      "5t: 0.927335138734\n",
      "CPU times: user 2min 52s, sys: 14.5 s, total: 3min 7s\n",
      "Wall time: 47min 8s\n"
     ]
    }
   ],
   "source": [
    "%%time\n",
    "!vw --oaa 10 -c -d ../../data/stackoverflow_train.vw --passes 1 --ngram 1 -b 28 --random_seed 17 \\\n",
    "    -f ../../data/so_model_1u.vw --quiet\n",
    "!vw -t -i ../../data/so_model_1u.vw -d ../../data/stackoverflow_valid.vw -p ../../data/predict.csv --quiet\n",
    "print(\"1u:\", accuracy_on_validation('../../data/predict.csv'))\n",
    "\n",
    "!vw --oaa 10 -c -d ../../data/stackoverflow_train.vw --passes 1 --ngram 2 -b 28 --random_seed 17 \\\n",
    "    -f ../../data/so_model_1b.vw --quiet\n",
    "!vw -t -i ../../data/so_model_1b.vw -d ../../data/stackoverflow_valid.vw -p ../../data/predict.csv --quiet\n",
    "print(\"1b:\", accuracy_on_validation('../../data/predict.csv'))\n",
    "\n",
    "!vw --oaa 10 -c -d ../../data/stackoverflow_train.vw --passes 1 --ngram 3 -b 28 --random_seed 17 \\\n",
    "    -f ../../data/so_model_1t.vw --quiet\n",
    "!vw -t -i ../../data/so_model_1t.vw -d ../../data/stackoverflow_valid.vw -p ../../data/predict.csv --quiet\n",
    "print(\"1t:\", accuracy_on_validation('../../data/predict.csv'))\n",
    "\n",
    "!vw --oaa 10 -c -d ../../data/stackoverflow_train.vw --passes 3 --ngram 1 -b 28 --random_seed 17 \\\n",
    "    -f ../../data/so_model_3u.vw --quiet\n",
    "!vw -t -i ../../data/so_model_3u.vw -d ../../data/stackoverflow_valid.vw -p ../../data/predict.csv --quiet\n",
    "print(\"3u:\", accuracy_on_validation('../../data/predict.csv'))\n",
    "\n",
    "!vw --oaa 10 -c -d ../../data/stackoverflow_train.vw --passes 3 --ngram 2 -b 28 --random_seed 17 \\\n",
    "    -f ../../data/so_model_3b.vw --quiet\n",
    "!vw -t -i ../../data/so_model_3b.vw -d ../../data/stackoverflow_valid.vw -p ../../data/predict.csv --quiet\n",
    "print(\"3b:\", accuracy_on_validation('../../data/predict.csv'))\n",
    "\n",
    "!vw --oaa 10 -c -d ../../data/stackoverflow_train.vw --passes 3 --ngram 3 -b 28 --random_seed 17 \\\n",
    "    -f ../../data/so_model_3t.vw --quiet\n",
    "!vw -t -i ../../data/so_model_3t.vw -d ../../data/stackoverflow_valid.vw -p ../../data/predict.csv --quiet\n",
    "print(\"3t:\", accuracy_on_validation('../../data/predict.csv'))\n",
    "\n",
    "!vw --oaa 10 -c -d ../../data/stackoverflow_train.vw --passes 5 --ngram 1 -b 28 --random_seed 17 \\\n",
    "    -f ../../data/so_model_5u.vw --quiet\n",
    "!vw -t -i ../../data/so_model_5u.vw -d ../../data/stackoverflow_valid.vw -p ../../data/predict.csv --quiet\n",
    "print(\"5u:\", accuracy_on_validation('../../data/predict.csv'))\n",
    "\n",
    "!vw --oaa 10 -c -d ../../data/stackoverflow_train.vw --passes 5 --ngram 2 -b 28 --random_seed 17 \\\n",
    "    -f ../../data/so_model_5b.vw --quiet\n",
    "!vw -t -i ../../data/so_model_5b.vw -d ../../data/stackoverflow_valid.vw -p ../../data/predict.csv --quiet\n",
    "print(\"5b:\", accuracy_on_validation('../../data/predict.csv'))\n",
    "\n",
    "!vw --oaa 10 -c -d ../../data/stackoverflow_train.vw --passes 5 --ngram 3 -b 28 --random_seed 17 \\\n",
    "    -f ../../data/so_model_5t.vw --quiet\n",
    "!vw -t -i ../../data/so_model_5t.vw -d ../../data/stackoverflow_valid.vw -p ../../data/predict.csv --quiet\n",
    "print(\"5t:\", accuracy_on_validation('../../data/predict.csv'))\n",
    "\n",
    "!rm ../../data/stackoverflow_train.vw.cache 2> /dev/null"
   ]
  },
  {
   "cell_type": "markdown",
   "metadata": {},
   "source": [
    "<font color='red'> Вопрос 1.</font> Какое сочетание параметров дает наибольшую долю правильных ответов на проверочной выборке `stackoverflow_valid.vw`?\n",
    "- Биграммы и 3 прохода по выборке\n",
    "- Триграммы и 5 проходов по выборке\n",
    "- **Биграммы и 1 проход по выборке**\n",
    "- Униграммы и 1 проход по выборке"
   ]
  },
  {
   "cell_type": "markdown",
   "metadata": {},
   "source": [
    "Проверьте лучшую (по доле правильных ответов на валидации) модель на тестовой выборке. "
   ]
  },
  {
   "cell_type": "code",
   "execution_count": 8,
   "metadata": {
    "collapsed": false
   },
   "outputs": [
    {
     "name": "stdout",
     "output_type": "stream",
     "text": [
      "[Train] Accuracy on test: 0.930669342414\n"
     ]
    }
   ],
   "source": [
    "!vw -t -i ../../data/so_model_1b.vw -d ../../data/stackoverflow_test.vw -p ../../data/predict.csv --quiet\n",
    "train_acc = accuracy_on_test('../../data/predict.csv')\n",
    "print(\"[Train] Accuracy on test:\", train_acc)"
   ]
  },
  {
   "cell_type": "markdown",
   "metadata": {},
   "source": [
    "<font color='red'> Вопрос 2.</font> Как соотносятся доли правильных ответов лучшей (по доле правильных ответов на валидации) модели на проверочной и на тестовой выборках? (здесь % – это процентный пункт, т.е., скажем, снижение с 50% до 40% – это на 10%, а не 20%).\n",
    "- На тестовой ниже примерно на 2%\n",
    "- На тестовой ниже примерно на 3%\n",
    "- **Результаты почти одинаковы – отличаются меньше чем на 0.5%**"
   ]
  },
  {
   "cell_type": "markdown",
   "metadata": {},
   "source": [
    "Обучите VW с параметрами, подобранными на проверочной выборке, теперь на объединении обучающей и проверочной выборок. Посчитайте долю правильных ответов на тестовой выборке. "
   ]
  },
  {
   "cell_type": "code",
   "execution_count": 9,
   "metadata": {
    "collapsed": false
   },
   "outputs": [
    {
     "name": "stdout",
     "output_type": "stream",
     "text": [
      "Generating 2-grams for all namespaces.\n",
      "final_regressor = ../../data/so_model_2x_1b.vw\n",
      "Num weight bits = 28\n",
      "learning rate = 0.5\n",
      "initial_t = 0\n",
      "power_t = 0.5\n",
      "using no cache\n",
      "Reading datafile = ../../data/stackoverflow_train_valid.vw\n",
      "num sources = 1\n",
      "average  since         example        example  current  current  current\n",
      "loss     last          counter         weight    label  predict features\n",
      "0.000000 0.000000            1            1.0        1        1      320\n",
      "0.500000 1.000000            2            2.0        4        1      134\n",
      "0.750000 1.000000            4            4.0        7        1      174\n",
      "0.750000 0.750000            8            8.0        7        1      188\n",
      "0.750000 0.750000           16           16.0        7        7      416\n",
      "0.781250 0.812500           32           32.0        7        2      346\n",
      "0.765625 0.750000           64           64.0        3        3      406\n",
      "0.671875 0.578125          128          128.0        1        7       56\n",
      "0.597656 0.523438          256          256.0        5        3      336\n",
      "0.527344 0.457031          512          512.0        2        2      604\n",
      "0.430664 0.333984         1024         1024.0        3        3      244\n",
      "0.362305 0.293945         2048         2048.0        1        5      164\n",
      "0.298828 0.235352         4096         4096.0        1        1      156\n",
      "0.250977 0.203125         8192         8192.0        2        2      222\n",
      "0.209290 0.167603        16384        16384.0        7        7      502\n",
      "0.173950 0.138611        32768        32768.0        4        5      266\n",
      "0.147705 0.121460        65536        65536.0        5        5      288\n",
      "0.126839 0.105972       131072       131072.0        7        2      508\n",
      "0.109077 0.091316       262144       262144.0        7        7      200\n",
      "0.097168 0.085258       524288       524288.0        1        1     1634\n",
      "0.086755 0.076342      1048576      1048576.0        1        1     1140\n",
      "0.078259 0.069762      2097152      2097152.0        5        5      170\n",
      "\n",
      "finished run\n",
      "number of examples per pass = 2926036\n",
      "passes used = 1\n",
      "weighted example sum = 2926036.000000\n",
      "weighted label sum = 0.000000\n",
      "average loss = 0.074498\n",
      "total feature number = 1163296978\n",
      "\n",
      "[Train + Val] Accuracy on test: 0.93561\n",
      "Diff: 0.49%\n"
     ]
    }
   ],
   "source": [
    "!rm ../../data/stackoverflow_train_valid.vw 2> /dev/null\n",
    "!cat ../../data/stackoverflow_train.vw ../../data/stackoverflow_valid.vw > ../../data/stackoverflow_train_valid.vw\n",
    "\n",
    "!vw --oaa 10 -d ../../data/stackoverflow_train_valid.vw --passes 1 --ngram 2 -b 28 --random_seed 17 \\\n",
    "    -f ../../data/so_model_2x_1b.vw\n",
    "!vw -t -i ../../data/so_model_2x_1b.vw -d ../../data/stackoverflow_test.vw  -p ../../data/predict.csv --quiet\n",
    "\n",
    "train_val_acc = accuracy_on_test('../../data/predict.csv')\n",
    "print(\"\\n[Train + Val] Accuracy on test: {:.5}\".format(train_val_acc))\n",
    "print(\"Diff: {:.2}%\".format((train_val_acc - train_acc) * 100))"
   ]
  },
  {
   "cell_type": "markdown",
   "metadata": {},
   "source": [
    "<font color='red'> Вопрос 3.</font> На сколько процентных пунктов повысилась доля правильных ответов модели после обучения на вдвое большей выборке (обучающая `stackoverflow_train.vw` + проверочная `stackoverflow_valid.vw`) по сравнению с моделью, обученной только на `stackoverflow_train.vw`?\n",
    " - 0.1%\n",
    " - **0.4%**\n",
    " - 0.8%\n",
    " - 1.2%"
   ]
  },
  {
   "cell_type": "markdown",
   "metadata": {},
   "source": [
    "### 2.5. Заключение"
   ]
  },
  {
   "cell_type": "markdown",
   "metadata": {},
   "source": [
    "В этом задании мы только познакомились с Vowpal Wabbit. Что еще можно попробовать:\n",
    " - Классификация с несколькими ответами (multilabel classification, аргумент  `multilabel_oaa`) – формат данных тут как раз под такую задачу\n",
    " - Настройка параметров VW с hyperopt, авторы библиотеки утверждают, что качество должно сильно зависеть от параметров изменения шага градиентного спуска (`initial_t` и `power_t`). Также можно потестировать разные функции потерь – обучать логистическую регресиию или линейный SVM\n",
    " - Познакомиться с факторизационными машинами и их реализацией в VW (аргумент `lrq`)"
   ]
  }
 ],
 "metadata": {
  "kernelspec": {
   "display_name": "Python 3",
   "language": "python",
   "name": "python3"
  },
  "language_info": {
   "codemirror_mode": {
    "name": "ipython",
    "version": 3
   },
   "file_extension": ".py",
   "mimetype": "text/x-python",
   "name": "python",
   "nbconvert_exporter": "python",
   "pygments_lexer": "ipython3",
   "version": "3.6.1"
  }
 },
 "nbformat": 4,
 "nbformat_minor": 2
}
