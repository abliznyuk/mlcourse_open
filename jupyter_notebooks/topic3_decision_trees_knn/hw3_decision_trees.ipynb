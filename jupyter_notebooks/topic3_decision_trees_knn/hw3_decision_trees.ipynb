{
 "cells": [
  {
   "cell_type": "markdown",
   "metadata": {
    "deletable": true,
    "editable": true
   },
   "source": [
    "<center>\n",
    "<img src=\"../../img/ods_stickers.jpg\">\n",
    "## Открытый курс по машинному обучению\n",
    "</center>\n",
    "Авторы материала: программист-исследователь Mail.ru Group, старший преподаватель Факультета Компьютерных Наук ВШЭ Юрий Кашницкий и старший эксперт по аналитике VimpelCom Мария Сумарокова"
   ]
  },
  {
   "cell_type": "markdown",
   "metadata": {
    "deletable": true,
    "editable": true
   },
   "source": [
    "# <center>Домашнее задание № 3. Деревья решений в игрушечной задаче и на данных Adult репозитория UCI\n",
    "\n",
    "**В задании Вам прдлагается разобраться с тем, как работает дерево решений, на игрушечном примере, затем обучить и настроить деревья и (при желании) случайный лес в задаче классификации на данных Adult репозитория UCI. Ответьте на все вопросы в этой тетрадке и заполните ответы в [гугл-форме](https://goo.gl/forms/4YUJPMkLGageEWWp2).**"
   ]
  },
  {
   "cell_type": "markdown",
   "metadata": {
    "deletable": true,
    "editable": true
   },
   "source": [
    "Подключаем необходимые библиотеки"
   ]
  },
  {
   "cell_type": "code",
   "execution_count": 1,
   "metadata": {
    "collapsed": false,
    "deletable": true,
    "editable": true
   },
   "outputs": [],
   "source": [
    "from __future__ import division, print_function\n",
    "# отключим всякие предупреждения Anaconda\n",
    "import warnings\n",
    "warnings.filterwarnings('ignore')\n",
    "%matplotlib inline\n",
    "from matplotlib import pyplot as plt\n",
    "plt.rcParams['figure.figsize'] = (10, 8)\n",
    "import seaborn as sns\n",
    "import numpy as np\n",
    "import pandas as pd\n",
    "from sklearn.preprocessing import LabelEncoder\n",
    "import collections\n",
    "from sklearn.model_selection import GridSearchCV\n",
    "from sklearn import preprocessing\n",
    "from sklearn.tree import DecisionTreeClassifier, export_graphviz\n",
    "from sklearn.ensemble import RandomForestClassifier\n",
    "from sklearn.metrics import accuracy_score"
   ]
  },
  {
   "cell_type": "markdown",
   "metadata": {
    "deletable": true,
    "editable": true
   },
   "source": [
    "## Часть 1. Игрушечный набор данных \"девушка в баре\""
   ]
  },
  {
   "cell_type": "markdown",
   "metadata": {
    "collapsed": true,
    "deletable": true,
    "editable": true
   },
   "source": [
    "**Цель –  \"на пальцах\", с помощью игрушечной задачи классификации разобраться в том, как работают деревья решений. Само по себе дерево решений – довольно слабый алгоритм, но основанные на нем алгоритмы случайного леса и градиентного бустинга - пожалуй, лучшее, что есть на сегодняшний день (в задачах, где можно обойтись без нейронных сетей). Поэтому разобраться в том, как работает дерево решений, полезно.**"
   ]
  },
  {
   "cell_type": "markdown",
   "metadata": {
    "deletable": true,
    "editable": true
   },
   "source": [
    "**Рассмотрим игрушечную задачу бинарной классификации: поедет ли с Вами девушка из бара? Это будет зависеть от Вашей внешности и красноречия, крепости предлагаемых напитков и, как это ни меркантильно, от количества потраченных в баре денег.**\n",
    "<img src='../../img/toy_data.png'>"
   ]
  },
  {
   "cell_type": "markdown",
   "metadata": {
    "deletable": true,
    "editable": true
   },
   "source": [
    "### Создание набора данных"
   ]
  },
  {
   "cell_type": "code",
   "execution_count": 2,
   "metadata": {
    "collapsed": true,
    "deletable": true,
    "editable": true
   },
   "outputs": [],
   "source": [
    "# Создание датафрейма с dummy variables\n",
    "def create_df(dic, feature_list):\n",
    "    out = pd.DataFrame(dic)\n",
    "    out = pd.concat([out, pd.get_dummies(out[feature_list])], axis = 1)\n",
    "    out.drop(feature_list, axis = 1, inplace = True)\n",
    "    return out\n",
    "\n",
    "# Некоторые значения признаков есть в тесте, но нет в трейне и наоборот\n",
    "def intersect_features(train, test):\n",
    "    common_feat = list( set(train.keys()) & set(test.keys()))\n",
    "    return train[common_feat], test[common_feat]"
   ]
  },
  {
   "cell_type": "code",
   "execution_count": 3,
   "metadata": {
    "collapsed": true,
    "deletable": true,
    "editable": true
   },
   "outputs": [],
   "source": [
    "features = ['Внешность', 'Алкоголь_в_напитке','Уровень_красноречия','Потраченные_деньги']"
   ]
  },
  {
   "cell_type": "markdown",
   "metadata": {
    "deletable": true,
    "editable": true
   },
   "source": [
    "**Обучающая выборка**"
   ]
  },
  {
   "cell_type": "code",
   "execution_count": 4,
   "metadata": {
    "collapsed": false,
    "deletable": true,
    "editable": true
   },
   "outputs": [
    {
     "data": {
      "text/html": [
       "<div>\n",
       "<table border=\"1\" class=\"dataframe\">\n",
       "  <thead>\n",
       "    <tr style=\"text-align: right;\">\n",
       "      <th></th>\n",
       "      <th>Поедет</th>\n",
       "      <th>Внешность_отталкивающая</th>\n",
       "      <th>Внешность_приятная</th>\n",
       "      <th>Алкоголь_в_напитке_да</th>\n",
       "      <th>Алкоголь_в_напитке_нет</th>\n",
       "      <th>Уровень_красноречия_высокий</th>\n",
       "      <th>Уровень_красноречия_низкий</th>\n",
       "      <th>Уровень_красноречия_средний</th>\n",
       "      <th>Потраченные_деньги_мало</th>\n",
       "      <th>Потраченные_деньги_много</th>\n",
       "    </tr>\n",
       "  </thead>\n",
       "  <tbody>\n",
       "    <tr>\n",
       "      <th>0</th>\n",
       "      <td>0</td>\n",
       "      <td>0</td>\n",
       "      <td>1</td>\n",
       "      <td>1</td>\n",
       "      <td>0</td>\n",
       "      <td>1</td>\n",
       "      <td>0</td>\n",
       "      <td>0</td>\n",
       "      <td>0</td>\n",
       "      <td>1</td>\n",
       "    </tr>\n",
       "    <tr>\n",
       "      <th>1</th>\n",
       "      <td>1</td>\n",
       "      <td>0</td>\n",
       "      <td>1</td>\n",
       "      <td>1</td>\n",
       "      <td>0</td>\n",
       "      <td>0</td>\n",
       "      <td>1</td>\n",
       "      <td>0</td>\n",
       "      <td>1</td>\n",
       "      <td>0</td>\n",
       "    </tr>\n",
       "    <tr>\n",
       "      <th>2</th>\n",
       "      <td>0</td>\n",
       "      <td>0</td>\n",
       "      <td>1</td>\n",
       "      <td>0</td>\n",
       "      <td>1</td>\n",
       "      <td>0</td>\n",
       "      <td>0</td>\n",
       "      <td>1</td>\n",
       "      <td>0</td>\n",
       "      <td>1</td>\n",
       "    </tr>\n",
       "    <tr>\n",
       "      <th>3</th>\n",
       "      <td>1</td>\n",
       "      <td>1</td>\n",
       "      <td>0</td>\n",
       "      <td>0</td>\n",
       "      <td>1</td>\n",
       "      <td>0</td>\n",
       "      <td>0</td>\n",
       "      <td>1</td>\n",
       "      <td>1</td>\n",
       "      <td>0</td>\n",
       "    </tr>\n",
       "    <tr>\n",
       "      <th>4</th>\n",
       "      <td>1</td>\n",
       "      <td>1</td>\n",
       "      <td>0</td>\n",
       "      <td>1</td>\n",
       "      <td>0</td>\n",
       "      <td>0</td>\n",
       "      <td>1</td>\n",
       "      <td>0</td>\n",
       "      <td>0</td>\n",
       "      <td>1</td>\n",
       "    </tr>\n",
       "    <tr>\n",
       "      <th>5</th>\n",
       "      <td>0</td>\n",
       "      <td>1</td>\n",
       "      <td>0</td>\n",
       "      <td>1</td>\n",
       "      <td>0</td>\n",
       "      <td>1</td>\n",
       "      <td>0</td>\n",
       "      <td>0</td>\n",
       "      <td>0</td>\n",
       "      <td>1</td>\n",
       "    </tr>\n",
       "    <tr>\n",
       "      <th>6</th>\n",
       "      <td>0</td>\n",
       "      <td>0</td>\n",
       "      <td>1</td>\n",
       "      <td>1</td>\n",
       "      <td>0</td>\n",
       "      <td>0</td>\n",
       "      <td>0</td>\n",
       "      <td>1</td>\n",
       "      <td>0</td>\n",
       "      <td>1</td>\n",
       "    </tr>\n",
       "  </tbody>\n",
       "</table>\n",
       "</div>"
      ],
      "text/plain": [
       "   Поедет  Внешность_отталкивающая  Внешность_приятная  Алкоголь_в_напитке_да  \\\n",
       "0       0                        0                   1                      1   \n",
       "1       1                        0                   1                      1   \n",
       "2       0                        0                   1                      0   \n",
       "3       1                        1                   0                      0   \n",
       "4       1                        1                   0                      1   \n",
       "5       0                        1                   0                      1   \n",
       "6       0                        0                   1                      1   \n",
       "\n",
       "   Алкоголь_в_напитке_нет  Уровень_красноречия_высокий  \\\n",
       "0                       0                            1   \n",
       "1                       0                            0   \n",
       "2                       1                            0   \n",
       "3                       1                            0   \n",
       "4                       0                            0   \n",
       "5                       0                            1   \n",
       "6                       0                            0   \n",
       "\n",
       "   Уровень_красноречия_низкий  Уровень_красноречия_средний  \\\n",
       "0                           0                            0   \n",
       "1                           1                            0   \n",
       "2                           0                            1   \n",
       "3                           0                            1   \n",
       "4                           1                            0   \n",
       "5                           0                            0   \n",
       "6                           0                            1   \n",
       "\n",
       "   Потраченные_деньги_мало  Потраченные_деньги_много  \n",
       "0                        0                         1  \n",
       "1                        1                         0  \n",
       "2                        0                         1  \n",
       "3                        1                         0  \n",
       "4                        0                         1  \n",
       "5                        0                         1  \n",
       "6                        0                         1  "
      ]
     },
     "execution_count": 4,
     "metadata": {},
     "output_type": "execute_result"
    }
   ],
   "source": [
    "df_train = {}\n",
    "df_train['Внешность'] = ['приятная', 'приятная', 'приятная', 'отталкивающая',\n",
    "                         'отталкивающая', 'отталкивающая', 'приятная'] \n",
    "df_train['Алкоголь_в_напитке'] = ['да', 'да', 'нет', 'нет', 'да', 'да', 'да']\n",
    "df_train['Уровень_красноречия'] = ['высокий', 'низкий', 'средний', 'средний', 'низкий',\n",
    "                                   'высокий', 'средний']\n",
    "df_train['Потраченные_деньги'] = ['много', 'мало', 'много', 'мало', 'много',\n",
    "                                  'много', 'много']\n",
    "df_train['Поедет'] = LabelEncoder().fit_transform(['+', '-', '+', '-', '-', '+', '+'])\n",
    "\n",
    "df_train = create_df(df_train, features)\n",
    "df_train"
   ]
  },
  {
   "cell_type": "markdown",
   "metadata": {
    "deletable": true,
    "editable": true
   },
   "source": [
    "**Тестовая выборка**"
   ]
  },
  {
   "cell_type": "code",
   "execution_count": 5,
   "metadata": {
    "collapsed": false,
    "deletable": true,
    "editable": true
   },
   "outputs": [
    {
     "data": {
      "text/html": [
       "<div>\n",
       "<table border=\"1\" class=\"dataframe\">\n",
       "  <thead>\n",
       "    <tr style=\"text-align: right;\">\n",
       "      <th></th>\n",
       "      <th>Внешность_отталкивающая</th>\n",
       "      <th>Внешность_приятная</th>\n",
       "      <th>Алкоголь_в_напитке_да</th>\n",
       "      <th>Алкоголь_в_напитке_нет</th>\n",
       "      <th>Уровень_красноречия_высокий</th>\n",
       "      <th>Уровень_красноречия_средний</th>\n",
       "      <th>Потраченные_деньги_мало</th>\n",
       "      <th>Потраченные_деньги_много</th>\n",
       "    </tr>\n",
       "  </thead>\n",
       "  <tbody>\n",
       "    <tr>\n",
       "      <th>0</th>\n",
       "      <td>0</td>\n",
       "      <td>1</td>\n",
       "      <td>0</td>\n",
       "      <td>1</td>\n",
       "      <td>0</td>\n",
       "      <td>1</td>\n",
       "      <td>0</td>\n",
       "      <td>1</td>\n",
       "    </tr>\n",
       "    <tr>\n",
       "      <th>1</th>\n",
       "      <td>0</td>\n",
       "      <td>1</td>\n",
       "      <td>1</td>\n",
       "      <td>0</td>\n",
       "      <td>1</td>\n",
       "      <td>0</td>\n",
       "      <td>1</td>\n",
       "      <td>0</td>\n",
       "    </tr>\n",
       "    <tr>\n",
       "      <th>2</th>\n",
       "      <td>1</td>\n",
       "      <td>0</td>\n",
       "      <td>1</td>\n",
       "      <td>0</td>\n",
       "      <td>0</td>\n",
       "      <td>1</td>\n",
       "      <td>0</td>\n",
       "      <td>1</td>\n",
       "    </tr>\n",
       "  </tbody>\n",
       "</table>\n",
       "</div>"
      ],
      "text/plain": [
       "   Внешность_отталкивающая  Внешность_приятная  Алкоголь_в_напитке_да  \\\n",
       "0                        0                   1                      0   \n",
       "1                        0                   1                      1   \n",
       "2                        1                   0                      1   \n",
       "\n",
       "   Алкоголь_в_напитке_нет  Уровень_красноречия_высокий  \\\n",
       "0                       1                            0   \n",
       "1                       0                            1   \n",
       "2                       0                            0   \n",
       "\n",
       "   Уровень_красноречия_средний  Потраченные_деньги_мало  \\\n",
       "0                            1                        0   \n",
       "1                            0                        1   \n",
       "2                            1                        0   \n",
       "\n",
       "   Потраченные_деньги_много  \n",
       "0                         1  \n",
       "1                         0  \n",
       "2                         1  "
      ]
     },
     "execution_count": 5,
     "metadata": {},
     "output_type": "execute_result"
    }
   ],
   "source": [
    "df_test = {}\n",
    "df_test['Внешность'] = ['приятная', 'приятная', 'отталкивающая'] \n",
    "df_test['Алкоголь_в_напитке'] = ['нет', 'да', 'да']\n",
    "df_test['Уровень_красноречия'] = ['средний', 'высокий', 'средний']\n",
    "df_test['Потраченные_деньги'] = ['много', 'мало', 'много']\n",
    "df_test = create_df(df_test, features)\n",
    "df_test"
   ]
  },
  {
   "cell_type": "code",
   "execution_count": 6,
   "metadata": {
    "collapsed": false,
    "deletable": true,
    "editable": true
   },
   "outputs": [
    {
     "data": {
      "text/html": [
       "<div>\n",
       "<table border=\"1\" class=\"dataframe\">\n",
       "  <thead>\n",
       "    <tr style=\"text-align: right;\">\n",
       "      <th></th>\n",
       "      <th>Потраченные_деньги_много</th>\n",
       "      <th>Алкоголь_в_напитке_нет</th>\n",
       "      <th>Уровень_красноречия_средний</th>\n",
       "      <th>Внешность_приятная</th>\n",
       "      <th>Алкоголь_в_напитке_да</th>\n",
       "      <th>Потраченные_деньги_мало</th>\n",
       "      <th>Внешность_отталкивающая</th>\n",
       "      <th>Уровень_красноречия_высокий</th>\n",
       "    </tr>\n",
       "  </thead>\n",
       "  <tbody>\n",
       "    <tr>\n",
       "      <th>0</th>\n",
       "      <td>1</td>\n",
       "      <td>0</td>\n",
       "      <td>0</td>\n",
       "      <td>1</td>\n",
       "      <td>1</td>\n",
       "      <td>0</td>\n",
       "      <td>0</td>\n",
       "      <td>1</td>\n",
       "    </tr>\n",
       "    <tr>\n",
       "      <th>1</th>\n",
       "      <td>0</td>\n",
       "      <td>0</td>\n",
       "      <td>0</td>\n",
       "      <td>1</td>\n",
       "      <td>1</td>\n",
       "      <td>1</td>\n",
       "      <td>0</td>\n",
       "      <td>0</td>\n",
       "    </tr>\n",
       "    <tr>\n",
       "      <th>2</th>\n",
       "      <td>1</td>\n",
       "      <td>1</td>\n",
       "      <td>1</td>\n",
       "      <td>1</td>\n",
       "      <td>0</td>\n",
       "      <td>0</td>\n",
       "      <td>0</td>\n",
       "      <td>0</td>\n",
       "    </tr>\n",
       "    <tr>\n",
       "      <th>3</th>\n",
       "      <td>0</td>\n",
       "      <td>1</td>\n",
       "      <td>1</td>\n",
       "      <td>0</td>\n",
       "      <td>0</td>\n",
       "      <td>1</td>\n",
       "      <td>1</td>\n",
       "      <td>0</td>\n",
       "    </tr>\n",
       "    <tr>\n",
       "      <th>4</th>\n",
       "      <td>1</td>\n",
       "      <td>0</td>\n",
       "      <td>0</td>\n",
       "      <td>0</td>\n",
       "      <td>1</td>\n",
       "      <td>0</td>\n",
       "      <td>1</td>\n",
       "      <td>0</td>\n",
       "    </tr>\n",
       "    <tr>\n",
       "      <th>5</th>\n",
       "      <td>1</td>\n",
       "      <td>0</td>\n",
       "      <td>0</td>\n",
       "      <td>0</td>\n",
       "      <td>1</td>\n",
       "      <td>0</td>\n",
       "      <td>1</td>\n",
       "      <td>1</td>\n",
       "    </tr>\n",
       "    <tr>\n",
       "      <th>6</th>\n",
       "      <td>1</td>\n",
       "      <td>0</td>\n",
       "      <td>1</td>\n",
       "      <td>1</td>\n",
       "      <td>1</td>\n",
       "      <td>0</td>\n",
       "      <td>0</td>\n",
       "      <td>0</td>\n",
       "    </tr>\n",
       "  </tbody>\n",
       "</table>\n",
       "</div>"
      ],
      "text/plain": [
       "   Потраченные_деньги_много  Алкоголь_в_напитке_нет  \\\n",
       "0                         1                       0   \n",
       "1                         0                       0   \n",
       "2                         1                       1   \n",
       "3                         0                       1   \n",
       "4                         1                       0   \n",
       "5                         1                       0   \n",
       "6                         1                       0   \n",
       "\n",
       "   Уровень_красноречия_средний  Внешность_приятная  Алкоголь_в_напитке_да  \\\n",
       "0                            0                   1                      1   \n",
       "1                            0                   1                      1   \n",
       "2                            1                   1                      0   \n",
       "3                            1                   0                      0   \n",
       "4                            0                   0                      1   \n",
       "5                            0                   0                      1   \n",
       "6                            1                   1                      1   \n",
       "\n",
       "   Потраченные_деньги_мало  Внешность_отталкивающая  \\\n",
       "0                        0                        0   \n",
       "1                        1                        0   \n",
       "2                        0                        0   \n",
       "3                        1                        1   \n",
       "4                        0                        1   \n",
       "5                        0                        1   \n",
       "6                        0                        0   \n",
       "\n",
       "   Уровень_красноречия_высокий  \n",
       "0                            1  \n",
       "1                            0  \n",
       "2                            0  \n",
       "3                            0  \n",
       "4                            0  \n",
       "5                            1  \n",
       "6                            0  "
      ]
     },
     "execution_count": 6,
     "metadata": {},
     "output_type": "execute_result"
    }
   ],
   "source": [
    "# Некоторые значения признаков есть в тесте, но нет в трейне и наоборот\n",
    "y = df_train['Поедет']\n",
    "df_train, df_test = intersect_features(train=df_train, test=df_test)\n",
    "df_train"
   ]
  },
  {
   "cell_type": "code",
   "execution_count": 7,
   "metadata": {
    "collapsed": false,
    "deletable": true,
    "editable": true
   },
   "outputs": [
    {
     "data": {
      "text/html": [
       "<div>\n",
       "<table border=\"1\" class=\"dataframe\">\n",
       "  <thead>\n",
       "    <tr style=\"text-align: right;\">\n",
       "      <th></th>\n",
       "      <th>Потраченные_деньги_много</th>\n",
       "      <th>Алкоголь_в_напитке_нет</th>\n",
       "      <th>Уровень_красноречия_средний</th>\n",
       "      <th>Внешность_приятная</th>\n",
       "      <th>Алкоголь_в_напитке_да</th>\n",
       "      <th>Потраченные_деньги_мало</th>\n",
       "      <th>Внешность_отталкивающая</th>\n",
       "      <th>Уровень_красноречия_высокий</th>\n",
       "    </tr>\n",
       "  </thead>\n",
       "  <tbody>\n",
       "    <tr>\n",
       "      <th>0</th>\n",
       "      <td>1</td>\n",
       "      <td>1</td>\n",
       "      <td>1</td>\n",
       "      <td>1</td>\n",
       "      <td>0</td>\n",
       "      <td>0</td>\n",
       "      <td>0</td>\n",
       "      <td>0</td>\n",
       "    </tr>\n",
       "    <tr>\n",
       "      <th>1</th>\n",
       "      <td>0</td>\n",
       "      <td>0</td>\n",
       "      <td>0</td>\n",
       "      <td>1</td>\n",
       "      <td>1</td>\n",
       "      <td>1</td>\n",
       "      <td>0</td>\n",
       "      <td>1</td>\n",
       "    </tr>\n",
       "    <tr>\n",
       "      <th>2</th>\n",
       "      <td>1</td>\n",
       "      <td>0</td>\n",
       "      <td>1</td>\n",
       "      <td>0</td>\n",
       "      <td>1</td>\n",
       "      <td>0</td>\n",
       "      <td>1</td>\n",
       "      <td>0</td>\n",
       "    </tr>\n",
       "  </tbody>\n",
       "</table>\n",
       "</div>"
      ],
      "text/plain": [
       "   Потраченные_деньги_много  Алкоголь_в_напитке_нет  \\\n",
       "0                         1                       1   \n",
       "1                         0                       0   \n",
       "2                         1                       0   \n",
       "\n",
       "   Уровень_красноречия_средний  Внешность_приятная  Алкоголь_в_напитке_да  \\\n",
       "0                            1                   1                      0   \n",
       "1                            0                   1                      1   \n",
       "2                            1                   0                      1   \n",
       "\n",
       "   Потраченные_деньги_мало  Внешность_отталкивающая  \\\n",
       "0                        0                        0   \n",
       "1                        1                        0   \n",
       "2                        0                        1   \n",
       "\n",
       "   Уровень_красноречия_высокий  \n",
       "0                            0  \n",
       "1                            1  \n",
       "2                            0  "
      ]
     },
     "execution_count": 7,
     "metadata": {},
     "output_type": "execute_result"
    }
   ],
   "source": [
    "df_test"
   ]
  },
  {
   "cell_type": "markdown",
   "metadata": {
    "deletable": true,
    "editable": true
   },
   "source": [
    "**Постройте от руки (или в графическом редакторе) дерево решений для этого набора данных. Дополнительно (для желающих) - можете сделать отрисовку дерева и написать код для построения всего дерева.**"
   ]
  },
  {
   "cell_type": "markdown",
   "metadata": {
    "deletable": true,
    "editable": true
   },
   "source": [
    "<font color='red'>Вопрос 1.</font> Какова энтропия начальной системы ($S_0$)? Под состояниями системы понимаем значения признака \"Поедет\" – 0 или 1 (то есть всего 2 состояния)."
   ]
  },
  {
   "cell_type": "markdown",
   "metadata": {
    "deletable": true,
    "editable": true
   },
   "source": [
    "<font color='red'>Вопрос 2. </font> Рассмотрим разбиение обучающей выборки по признаку \"Внешность\\_приятная\". Какова энтропия  $S_1$ левой группы, тех, у кого внешность приятная, и правой группы – $S_2$? Каков прирост информации  при данном разбиении (IG)? "
   ]
  },
  {
   "cell_type": "code",
   "execution_count": 8,
   "metadata": {
    "collapsed": true,
    "deletable": true,
    "editable": true
   },
   "outputs": [
    {
     "name": "stdout",
     "output_type": "stream",
     "text": [
      "Q1: S0 = 0.985\n",
      "Q2: S1 = 0.811, S2 = 0.918, IG = 0.128\n"
     ]
    }
   ],
   "source": [
    "def _entropy(ds):\n",
    "    _sum = len(ds)\n",
    "    _v = ds.value_counts()\n",
    "    return - _v[1] / _sum * np.log2(_v[1] / _sum) - _v[0] / _sum * np.log2(_v[0] / _sum)\n",
    "\n",
    "S0 = _entropy(y)\n",
    "print(\"Q1: S0 = {0}\".format(round(S0,3)))\n",
    "\n",
    "s1_idx = df_train['Внешность_приятная'] == 1\n",
    "s2_idx = df_train['Внешность_приятная'] == 0\n",
    "\n",
    "S1 = _entropy(y[s1_idx])\n",
    "S2 = _entropy(y[s2_idx])\n",
    "\n",
    "IG = S0 - len(y[s1_idx]) / len(y) * S1 - len(y[s2_idx]) / len(y) * S2\n",
    "\n",
    "print(\"Q2: S1 = {0}, S2 = {1}, IG = {2}\".format(round(S1,3), round(S2,3), round(IG,3)))"
   ]
  },
  {
   "cell_type": "markdown",
   "metadata": {
    "deletable": true,
    "editable": true
   },
   "source": [
    "**Постройте с помощью `sklearn` дерево решений, обучив его на обучающей выборке. Глубину можно не ограничивать.**"
   ]
  },
  {
   "cell_type": "code",
   "execution_count": 9,
   "metadata": {
    "collapsed": true,
    "deletable": true,
    "editable": true
   },
   "outputs": [],
   "source": [
    "clf_tree = DecisionTreeClassifier(random_state=17)\n",
    "clf_tree.fit(df_train.values, y)\n",
    "\n",
    "export_graphviz(clf_tree, feature_names=df_train.columns, out_file='../../img/clf_tree.dot', filled=True)\n",
    "!dot -Tpng '../../img/clf_tree.dot' -o '../../img/clf_tree.png'"
   ]
  },
  {
   "cell_type": "markdown",
   "metadata": {
    "deletable": true,
    "editable": true
   },
   "source": [
    "**Дополнительно: отобразите дерево с помощью graphviz. Можно использовать `pydot` или, например, [онлайн-сервис](https://www.coolutils.com/ru/online/DOT-to-PNG) dot2png.**"
   ]
  },
  {
   "cell_type": "markdown",
   "metadata": {},
   "source": [
    "![title](../../img/clf_tree.png)"
   ]
  },
  {
   "cell_type": "markdown",
   "metadata": {
    "deletable": true,
    "editable": true
   },
   "source": [
    "## Часть 2. Функции для расчета энтропии и прироста информации"
   ]
  },
  {
   "cell_type": "markdown",
   "metadata": {
    "deletable": true,
    "editable": true
   },
   "source": [
    "Примерчик для проверки: 9 синих шариков и 11 желтых. Пусть шарик находится в состоянии \"1\", если он синий и \"0\" – если он желтый."
   ]
  },
  {
   "cell_type": "code",
   "execution_count": 10,
   "metadata": {
    "collapsed": true,
    "deletable": true,
    "editable": true
   },
   "outputs": [],
   "source": [
    "balls = [1 for i in range(9)] + [0 for i in range(11)]"
   ]
  },
  {
   "cell_type": "markdown",
   "metadata": {
    "deletable": true,
    "editable": true
   },
   "source": [
    "![png](../../img/decision_tree3.png)"
   ]
  },
  {
   "cell_type": "markdown",
   "metadata": {
    "deletable": true,
    "editable": true
   },
   "source": [
    "Дальше пусть шарики разбиваются на 2 группы\n",
    "![png](../../img/decision_tree4.png)"
   ]
  },
  {
   "cell_type": "code",
   "execution_count": 11,
   "metadata": {
    "collapsed": true,
    "deletable": true,
    "editable": true
   },
   "outputs": [],
   "source": [
    "# две группы\n",
    "balls_left  = [1 for i in range(8)] + [0 for i in range(5)] # 8 синих и 5 желтых\n",
    "balls_right = [1 for i in range(1)] + [0 for i in range(6)] # 1 синий и 6 желтых"
   ]
  },
  {
   "cell_type": "markdown",
   "metadata": {
    "deletable": true,
    "editable": true
   },
   "source": [
    "**Реализуйте функцию для расчета энтропии Шеннона.**"
   ]
  },
  {
   "cell_type": "code",
   "execution_count": 12,
   "metadata": {
    "collapsed": true,
    "deletable": true,
    "editable": true
   },
   "outputs": [],
   "source": [
    "def entropy(a_list):\n",
    "    _total = len(a_list)\n",
    "    _acc = 0\n",
    "    for val in set(a_list):\n",
    "        _acc -= a_list.count(val) / _total * np.log2(a_list.count(val) / _total)\n",
    "    return round(_acc, 3)"
   ]
  },
  {
   "cell_type": "markdown",
   "metadata": {
    "deletable": true,
    "editable": true
   },
   "source": [
    "Проверка"
   ]
  },
  {
   "cell_type": "code",
   "execution_count": 13,
   "metadata": {
    "collapsed": false,
    "deletable": true,
    "editable": true
   },
   "outputs": [
    {
     "name": "stdout",
     "output_type": "stream",
     "text": [
      "0.993\n",
      "0.961\n",
      "0.592\n",
      "2.585\n"
     ]
    }
   ],
   "source": [
    "print(entropy(balls)) # 9 синих и 11 желтых\n",
    "print(entropy(balls_left)) # 8 синих и 5 желтых\n",
    "print(entropy(balls_right)) # 1 синий и 6 желтых\n",
    "print(entropy([1,2,3,4,5,6])) # энтропия игральной кости с несмещенным центром тяжести"
   ]
  },
  {
   "cell_type": "markdown",
   "metadata": {
    "deletable": true,
    "editable": true
   },
   "source": [
    "<font color='red'>Вопрос 3.</font> Чему равна энтропия состояния, заданного списком `balls_left`?"
   ]
  },
  {
   "cell_type": "markdown",
   "metadata": {
    "deletable": true,
    "editable": true
   },
   "source": [
    "*Answer:* **0.961**."
   ]
  },
  {
   "cell_type": "markdown",
   "metadata": {},
   "source": [
    "<font color='red'>Вопрос 4.</font> Чему равна энтропия игральной кости с несмещенным центром тяжести?"
   ]
  },
  {
   "cell_type": "markdown",
   "metadata": {},
   "source": [
    "*Answer:* **2.585**."
   ]
  },
  {
   "cell_type": "code",
   "execution_count": 14,
   "metadata": {
    "collapsed": true,
    "deletable": true,
    "editable": true
   },
   "outputs": [],
   "source": [
    "# расчет прироста информации\n",
    "\n",
    "def information_gain(root, left, right):\n",
    "    ''' root - изначальный набор данных, left и right два разбиения изначального набора'''\n",
    "    _ig = entropy(root) - len(left) / len(root) * entropy(left) - len(right) / len(root) * entropy(right)\n",
    "    return round(_ig, 3)"
   ]
  },
  {
   "cell_type": "markdown",
   "metadata": {
    "deletable": true,
    "editable": true
   },
   "source": [
    "<font color='red'>Вопрос 5.  </font> Каков прирост информации при разделении выборки на `balls_left` и `balls_right`?"
   ]
  },
  {
   "cell_type": "code",
   "execution_count": 15,
   "metadata": {
    "collapsed": true,
    "deletable": true,
    "editable": true
   },
   "outputs": [
    {
     "name": "stdout",
     "output_type": "stream",
     "text": [
      "IG = 0.161\n"
     ]
    }
   ],
   "source": [
    "print('IG = {0}'.format(information_gain(balls, balls_left, balls_right)))"
   ]
  },
  {
   "cell_type": "code",
   "execution_count": 16,
   "metadata": {
    "collapsed": true,
    "deletable": true,
    "editable": true
   },
   "outputs": [],
   "source": [
    "def best_feature_to_split(X, y):\n",
    "    ''' Выводит прирост информации при разбиении по каждому признаку'''\n",
    "    _x = [information_gain(y.values.tolist(), y[X[idx] == 0].values.tolist(), y[X[idx] == 1].values.tolist())\n",
    "          for idx in X.columns]\n",
    "    return _x.index(max(_x))"
   ]
  },
  {
   "cell_type": "markdown",
   "metadata": {
    "deletable": true,
    "editable": true
   },
   "source": [
    "**Опционально:**\n",
    "\n",
    " - реализуйте алгоритм построения дерева за счет рекурсивного вызова функции `best_feature_to_split`\n",
    " - нарисуйте полученное дерево"
   ]
  },
  {
   "cell_type": "code",
   "execution_count": 17,
   "metadata": {
    "collapsed": false
   },
   "outputs": [
    {
     "data": {
      "text/plain": [
       "True"
      ]
     },
     "execution_count": 17,
     "metadata": {},
     "output_type": "execute_result"
    }
   ],
   "source": [
    "import pydot\n",
    "\n",
    "def build_tree(X, y):\n",
    "    graph = pydot.Dot(graph_type='digraph')\n",
    "    build_node(X, y, graph)\n",
    "    graph.set(\"shape\", \"box\")\n",
    "    return graph\n",
    "\n",
    "def build_node(X, y, graph, root=None):\n",
    "    if len(X) == 0:\n",
    "        return\n",
    "    if len(set(y)) == 1:\n",
    "        node = pydot.Node(\"samples = {0}\\nvalue = {1}\".format(len(y), [len(y[y == 1]), len(y[y == 0])]), \n",
    "                          shape='box', \n",
    "                          style='filled', \n",
    "                          fillcolor=\"#e58139ff\" if sum(y) > 0 else \"#399de5ff\")\n",
    "        return node\n",
    "    \n",
    "    m_f = X.columns[best_feature_to_split(X, y)]\n",
    "    m_f_node = pydot.Node(\"{0} >= 0.5\\nsamples = {1}\\nvalue = {2}\".format(m_f, len(y), [len(y[y == 1]), len(y[y == 0])]),\n",
    "                         shape='box')\n",
    "    graph.add_node(m_f_node)\n",
    "    if root is not None:\n",
    "        graph.add_edge(pydot.Edge(root, m_f_node, label=\"True\"))\n",
    "\n",
    "    node1 = build_node(X[X[m_f] == 1].drop(m_f, axis=1), y[X[m_f] == 1], graph, m_f_node)\n",
    "    node2 = build_node(X[X[m_f] == 0].drop(m_f, axis=1), y[X[m_f] == 0], graph, m_f_node)\n",
    "    if node1 is not None:\n",
    "        graph.add_node(node1)\n",
    "        graph.add_edge(pydot.Edge(m_f_node, node1, label=\"True\"))\n",
    "    if node2 is not None:\n",
    "        graph.add_node(node2)\n",
    "        graph.add_edge(pydot.Edge(m_f_node, node2, label=\"False\"))\n",
    "    \n",
    "build_tree(df_train, y).write_png('../../img/hand_tree.png')"
   ]
  },
  {
   "cell_type": "markdown",
   "metadata": {},
   "source": [
    "![title](../../img/hand_tree.png)"
   ]
  },
  {
   "cell_type": "markdown",
   "metadata": {
    "deletable": true,
    "editable": true
   },
   "source": [
    "## Часть 3. Набор данных \"Adult\""
   ]
  },
  {
   "cell_type": "markdown",
   "metadata": {
    "deletable": true,
    "editable": true
   },
   "source": [
    "**Описание набора:**"
   ]
  },
  {
   "cell_type": "markdown",
   "metadata": {
    "deletable": true,
    "editable": true
   },
   "source": [
    "**[Набор](http://archive.ics.uci.edu/ml/machine-learning-databases/adult) данных UCI Adult** (качать не надо, все есть в репозитории): классификация людей с помощью демографических данных для прогнозирования, зарабатывает ли человек более \\$ 50 000 в год.\n",
    "\n",
    "Описание признаков: \n",
    "\n",
    "**Age** – возраст, количественный признак  \n",
    "**Workclass** – тип работодателя, количественный признак  \n",
    "**fnlwgt** – итоговый вес обьекта, количественный признак    \n",
    "**Education** – уровень образования, качественный признак  \n",
    "**Education_Num** – количество лет обучения, количественный признак  \n",
    "**Martial_Status** – семейное положение, категориальный признак  \n",
    "**Occupation** – профессия, категориальный признак  \n",
    "**Relationship** – тип семейных отношений, категориальный признак    \n",
    "**Race** – раса, категориальный признак  \n",
    "**Sex** – пол, качественный признак  \n",
    "**Capital_Gain** – прирост капитала, количественный признак  \n",
    "**Capital_Loss** – потери капитала, количественный признак  \n",
    "**Hours_per_week** – количество часов работы в неделю, количественный признак  \n",
    "**Country** – страна, категориальный признак  \n",
    "   \n",
    "Целевая переменная: **Target** – уровень заработка, категориальный (бинарный) признак  "
   ]
  },
  {
   "cell_type": "markdown",
   "metadata": {
    "deletable": true,
    "editable": true
   },
   "source": [
    "**Считываем обучающую и тестовую выборки.**"
   ]
  },
  {
   "cell_type": "code",
   "execution_count": 18,
   "metadata": {
    "collapsed": true,
    "deletable": true,
    "editable": true
   },
   "outputs": [],
   "source": [
    "data_train = pd.read_csv('../../data/adult_train.csv', sep=';') "
   ]
  },
  {
   "cell_type": "code",
   "execution_count": 19,
   "metadata": {
    "collapsed": false,
    "deletable": true,
    "editable": true
   },
   "outputs": [
    {
     "data": {
      "text/html": [
       "<div>\n",
       "<table border=\"1\" class=\"dataframe\">\n",
       "  <thead>\n",
       "    <tr style=\"text-align: right;\">\n",
       "      <th></th>\n",
       "      <th>Age</th>\n",
       "      <th>Workclass</th>\n",
       "      <th>fnlwgt</th>\n",
       "      <th>Education</th>\n",
       "      <th>Education_Num</th>\n",
       "      <th>Martial_Status</th>\n",
       "      <th>Occupation</th>\n",
       "      <th>Relationship</th>\n",
       "      <th>Race</th>\n",
       "      <th>Sex</th>\n",
       "      <th>Capital_Gain</th>\n",
       "      <th>Capital_Loss</th>\n",
       "      <th>Hours_per_week</th>\n",
       "      <th>Country</th>\n",
       "      <th>Target</th>\n",
       "    </tr>\n",
       "  </thead>\n",
       "  <tbody>\n",
       "    <tr>\n",
       "      <th>32556</th>\n",
       "      <td>27</td>\n",
       "      <td>Private</td>\n",
       "      <td>257302</td>\n",
       "      <td>Assoc-acdm</td>\n",
       "      <td>12</td>\n",
       "      <td>Married-civ-spouse</td>\n",
       "      <td>Tech-support</td>\n",
       "      <td>Wife</td>\n",
       "      <td>White</td>\n",
       "      <td>Female</td>\n",
       "      <td>0</td>\n",
       "      <td>0</td>\n",
       "      <td>38</td>\n",
       "      <td>United-States</td>\n",
       "      <td>&lt;=50K</td>\n",
       "    </tr>\n",
       "    <tr>\n",
       "      <th>32557</th>\n",
       "      <td>40</td>\n",
       "      <td>Private</td>\n",
       "      <td>154374</td>\n",
       "      <td>HS-grad</td>\n",
       "      <td>9</td>\n",
       "      <td>Married-civ-spouse</td>\n",
       "      <td>Machine-op-inspct</td>\n",
       "      <td>Husband</td>\n",
       "      <td>White</td>\n",
       "      <td>Male</td>\n",
       "      <td>0</td>\n",
       "      <td>0</td>\n",
       "      <td>40</td>\n",
       "      <td>United-States</td>\n",
       "      <td>&gt;50K</td>\n",
       "    </tr>\n",
       "    <tr>\n",
       "      <th>32558</th>\n",
       "      <td>58</td>\n",
       "      <td>Private</td>\n",
       "      <td>151910</td>\n",
       "      <td>HS-grad</td>\n",
       "      <td>9</td>\n",
       "      <td>Widowed</td>\n",
       "      <td>Adm-clerical</td>\n",
       "      <td>Unmarried</td>\n",
       "      <td>White</td>\n",
       "      <td>Female</td>\n",
       "      <td>0</td>\n",
       "      <td>0</td>\n",
       "      <td>40</td>\n",
       "      <td>United-States</td>\n",
       "      <td>&lt;=50K</td>\n",
       "    </tr>\n",
       "    <tr>\n",
       "      <th>32559</th>\n",
       "      <td>22</td>\n",
       "      <td>Private</td>\n",
       "      <td>201490</td>\n",
       "      <td>HS-grad</td>\n",
       "      <td>9</td>\n",
       "      <td>Never-married</td>\n",
       "      <td>Adm-clerical</td>\n",
       "      <td>Own-child</td>\n",
       "      <td>White</td>\n",
       "      <td>Male</td>\n",
       "      <td>0</td>\n",
       "      <td>0</td>\n",
       "      <td>20</td>\n",
       "      <td>United-States</td>\n",
       "      <td>&lt;=50K</td>\n",
       "    </tr>\n",
       "    <tr>\n",
       "      <th>32560</th>\n",
       "      <td>52</td>\n",
       "      <td>Self-emp-inc</td>\n",
       "      <td>287927</td>\n",
       "      <td>HS-grad</td>\n",
       "      <td>9</td>\n",
       "      <td>Married-civ-spouse</td>\n",
       "      <td>Exec-managerial</td>\n",
       "      <td>Wife</td>\n",
       "      <td>White</td>\n",
       "      <td>Female</td>\n",
       "      <td>15024</td>\n",
       "      <td>0</td>\n",
       "      <td>40</td>\n",
       "      <td>United-States</td>\n",
       "      <td>&gt;50K</td>\n",
       "    </tr>\n",
       "  </tbody>\n",
       "</table>\n",
       "</div>"
      ],
      "text/plain": [
       "       Age      Workclass  fnlwgt    Education  Education_Num  \\\n",
       "32556   27        Private  257302   Assoc-acdm             12   \n",
       "32557   40        Private  154374      HS-grad              9   \n",
       "32558   58        Private  151910      HS-grad              9   \n",
       "32559   22        Private  201490      HS-grad              9   \n",
       "32560   52   Self-emp-inc  287927      HS-grad              9   \n",
       "\n",
       "            Martial_Status          Occupation Relationship    Race      Sex  \\\n",
       "32556   Married-civ-spouse        Tech-support         Wife   White   Female   \n",
       "32557   Married-civ-spouse   Machine-op-inspct      Husband   White     Male   \n",
       "32558              Widowed        Adm-clerical    Unmarried   White   Female   \n",
       "32559        Never-married        Adm-clerical    Own-child   White     Male   \n",
       "32560   Married-civ-spouse     Exec-managerial         Wife   White   Female   \n",
       "\n",
       "       Capital_Gain  Capital_Loss  Hours_per_week         Country  Target  \n",
       "32556             0             0              38   United-States   <=50K  \n",
       "32557             0             0              40   United-States    >50K  \n",
       "32558             0             0              40   United-States   <=50K  \n",
       "32559             0             0              20   United-States   <=50K  \n",
       "32560         15024             0              40   United-States    >50K  "
      ]
     },
     "execution_count": 19,
     "metadata": {},
     "output_type": "execute_result"
    }
   ],
   "source": [
    "data_train.tail()"
   ]
  },
  {
   "cell_type": "code",
   "execution_count": 20,
   "metadata": {
    "collapsed": false,
    "deletable": true,
    "editable": true
   },
   "outputs": [],
   "source": [
    "data_test = pd.read_csv('../../data/adult_test.csv', sep=';') "
   ]
  },
  {
   "cell_type": "code",
   "execution_count": 21,
   "metadata": {
    "collapsed": false,
    "deletable": true,
    "editable": true
   },
   "outputs": [
    {
     "data": {
      "text/html": [
       "<div>\n",
       "<table border=\"1\" class=\"dataframe\">\n",
       "  <thead>\n",
       "    <tr style=\"text-align: right;\">\n",
       "      <th></th>\n",
       "      <th>Age</th>\n",
       "      <th>Workclass</th>\n",
       "      <th>fnlwgt</th>\n",
       "      <th>Education</th>\n",
       "      <th>Education_Num</th>\n",
       "      <th>Martial_Status</th>\n",
       "      <th>Occupation</th>\n",
       "      <th>Relationship</th>\n",
       "      <th>Race</th>\n",
       "      <th>Sex</th>\n",
       "      <th>Capital_Gain</th>\n",
       "      <th>Capital_Loss</th>\n",
       "      <th>Hours_per_week</th>\n",
       "      <th>Country</th>\n",
       "      <th>Target</th>\n",
       "    </tr>\n",
       "  </thead>\n",
       "  <tbody>\n",
       "    <tr>\n",
       "      <th>16277</th>\n",
       "      <td>39</td>\n",
       "      <td>Private</td>\n",
       "      <td>215419.0</td>\n",
       "      <td>Bachelors</td>\n",
       "      <td>13.0</td>\n",
       "      <td>Divorced</td>\n",
       "      <td>Prof-specialty</td>\n",
       "      <td>Not-in-family</td>\n",
       "      <td>White</td>\n",
       "      <td>Female</td>\n",
       "      <td>0.0</td>\n",
       "      <td>0.0</td>\n",
       "      <td>36.0</td>\n",
       "      <td>United-States</td>\n",
       "      <td>&lt;=50K.</td>\n",
       "    </tr>\n",
       "    <tr>\n",
       "      <th>16278</th>\n",
       "      <td>64</td>\n",
       "      <td>NaN</td>\n",
       "      <td>321403.0</td>\n",
       "      <td>HS-grad</td>\n",
       "      <td>9.0</td>\n",
       "      <td>Widowed</td>\n",
       "      <td>NaN</td>\n",
       "      <td>Other-relative</td>\n",
       "      <td>Black</td>\n",
       "      <td>Male</td>\n",
       "      <td>0.0</td>\n",
       "      <td>0.0</td>\n",
       "      <td>40.0</td>\n",
       "      <td>United-States</td>\n",
       "      <td>&lt;=50K.</td>\n",
       "    </tr>\n",
       "    <tr>\n",
       "      <th>16279</th>\n",
       "      <td>38</td>\n",
       "      <td>Private</td>\n",
       "      <td>374983.0</td>\n",
       "      <td>Bachelors</td>\n",
       "      <td>13.0</td>\n",
       "      <td>Married-civ-spouse</td>\n",
       "      <td>Prof-specialty</td>\n",
       "      <td>Husband</td>\n",
       "      <td>White</td>\n",
       "      <td>Male</td>\n",
       "      <td>0.0</td>\n",
       "      <td>0.0</td>\n",
       "      <td>50.0</td>\n",
       "      <td>United-States</td>\n",
       "      <td>&lt;=50K.</td>\n",
       "    </tr>\n",
       "    <tr>\n",
       "      <th>16280</th>\n",
       "      <td>44</td>\n",
       "      <td>Private</td>\n",
       "      <td>83891.0</td>\n",
       "      <td>Bachelors</td>\n",
       "      <td>13.0</td>\n",
       "      <td>Divorced</td>\n",
       "      <td>Adm-clerical</td>\n",
       "      <td>Own-child</td>\n",
       "      <td>Asian-Pac-Islander</td>\n",
       "      <td>Male</td>\n",
       "      <td>5455.0</td>\n",
       "      <td>0.0</td>\n",
       "      <td>40.0</td>\n",
       "      <td>United-States</td>\n",
       "      <td>&lt;=50K.</td>\n",
       "    </tr>\n",
       "    <tr>\n",
       "      <th>16281</th>\n",
       "      <td>35</td>\n",
       "      <td>Self-emp-inc</td>\n",
       "      <td>182148.0</td>\n",
       "      <td>Bachelors</td>\n",
       "      <td>13.0</td>\n",
       "      <td>Married-civ-spouse</td>\n",
       "      <td>Exec-managerial</td>\n",
       "      <td>Husband</td>\n",
       "      <td>White</td>\n",
       "      <td>Male</td>\n",
       "      <td>0.0</td>\n",
       "      <td>0.0</td>\n",
       "      <td>60.0</td>\n",
       "      <td>United-States</td>\n",
       "      <td>&gt;50K.</td>\n",
       "    </tr>\n",
       "  </tbody>\n",
       "</table>\n",
       "</div>"
      ],
      "text/plain": [
       "      Age      Workclass    fnlwgt   Education  Education_Num  \\\n",
       "16277  39        Private  215419.0   Bachelors           13.0   \n",
       "16278  64            NaN  321403.0     HS-grad            9.0   \n",
       "16279  38        Private  374983.0   Bachelors           13.0   \n",
       "16280  44        Private   83891.0   Bachelors           13.0   \n",
       "16281  35   Self-emp-inc  182148.0   Bachelors           13.0   \n",
       "\n",
       "            Martial_Status        Occupation     Relationship  \\\n",
       "16277             Divorced    Prof-specialty    Not-in-family   \n",
       "16278              Widowed               NaN   Other-relative   \n",
       "16279   Married-civ-spouse    Prof-specialty          Husband   \n",
       "16280             Divorced      Adm-clerical        Own-child   \n",
       "16281   Married-civ-spouse   Exec-managerial          Husband   \n",
       "\n",
       "                      Race      Sex  Capital_Gain  Capital_Loss  \\\n",
       "16277                White   Female           0.0           0.0   \n",
       "16278                Black     Male           0.0           0.0   \n",
       "16279                White     Male           0.0           0.0   \n",
       "16280   Asian-Pac-Islander     Male        5455.0           0.0   \n",
       "16281                White     Male           0.0           0.0   \n",
       "\n",
       "       Hours_per_week         Country   Target  \n",
       "16277            36.0   United-States   <=50K.  \n",
       "16278            40.0   United-States   <=50K.  \n",
       "16279            50.0   United-States   <=50K.  \n",
       "16280            40.0   United-States   <=50K.  \n",
       "16281            60.0   United-States    >50K.  "
      ]
     },
     "execution_count": 21,
     "metadata": {},
     "output_type": "execute_result"
    }
   ],
   "source": [
    "data_test.tail()"
   ]
  },
  {
   "cell_type": "code",
   "execution_count": 22,
   "metadata": {
    "collapsed": true,
    "deletable": true,
    "editable": true
   },
   "outputs": [],
   "source": [
    "# необходимо убрать строки с неправильными метками в тестовой выборке\n",
    "data_test = data_test[(data_test['Target'] == ' >50K.') | (data_test['Target']==' <=50K.')]\n",
    "\n",
    "# перекодируем target в числовое поле\n",
    "data_train.at[data_train['Target'] == ' <=50K', 'Target'] = 0\n",
    "data_train.at[data_train['Target'] == ' >50K', 'Target'] = 1\n",
    "\n",
    "data_test.at[data_test['Target'] == ' <=50K.', 'Target'] = 0\n",
    "data_test.at[data_test['Target'] == ' >50K.', 'Target'] = 1"
   ]
  },
  {
   "cell_type": "markdown",
   "metadata": {
    "deletable": true,
    "editable": true
   },
   "source": [
    "**Первичный анализ данных.**"
   ]
  },
  {
   "cell_type": "code",
   "execution_count": 23,
   "metadata": {
    "collapsed": false,
    "deletable": true,
    "editable": true
   },
   "outputs": [
    {
     "data": {
      "text/html": [
       "<div>\n",
       "<table border=\"1\" class=\"dataframe\">\n",
       "  <thead>\n",
       "    <tr style=\"text-align: right;\">\n",
       "      <th></th>\n",
       "      <th>count</th>\n",
       "      <th>unique</th>\n",
       "      <th>top</th>\n",
       "      <th>freq</th>\n",
       "      <th>mean</th>\n",
       "      <th>std</th>\n",
       "      <th>min</th>\n",
       "      <th>25%</th>\n",
       "      <th>50%</th>\n",
       "      <th>75%</th>\n",
       "      <th>max</th>\n",
       "    </tr>\n",
       "  </thead>\n",
       "  <tbody>\n",
       "    <tr>\n",
       "      <th>Age</th>\n",
       "      <td>16281</td>\n",
       "      <td>73</td>\n",
       "      <td>35</td>\n",
       "      <td>461</td>\n",
       "      <td>NaN</td>\n",
       "      <td>NaN</td>\n",
       "      <td>NaN</td>\n",
       "      <td>NaN</td>\n",
       "      <td>NaN</td>\n",
       "      <td>NaN</td>\n",
       "      <td>NaN</td>\n",
       "    </tr>\n",
       "    <tr>\n",
       "      <th>Workclass</th>\n",
       "      <td>15318</td>\n",
       "      <td>8</td>\n",
       "      <td>Private</td>\n",
       "      <td>11210</td>\n",
       "      <td>NaN</td>\n",
       "      <td>NaN</td>\n",
       "      <td>NaN</td>\n",
       "      <td>NaN</td>\n",
       "      <td>NaN</td>\n",
       "      <td>NaN</td>\n",
       "      <td>NaN</td>\n",
       "    </tr>\n",
       "    <tr>\n",
       "      <th>fnlwgt</th>\n",
       "      <td>16281</td>\n",
       "      <td>NaN</td>\n",
       "      <td>NaN</td>\n",
       "      <td>NaN</td>\n",
       "      <td>189436</td>\n",
       "      <td>105715</td>\n",
       "      <td>13492</td>\n",
       "      <td>116736</td>\n",
       "      <td>177831</td>\n",
       "      <td>238384</td>\n",
       "      <td>1.4904e+06</td>\n",
       "    </tr>\n",
       "    <tr>\n",
       "      <th>Education</th>\n",
       "      <td>16281</td>\n",
       "      <td>16</td>\n",
       "      <td>HS-grad</td>\n",
       "      <td>5283</td>\n",
       "      <td>NaN</td>\n",
       "      <td>NaN</td>\n",
       "      <td>NaN</td>\n",
       "      <td>NaN</td>\n",
       "      <td>NaN</td>\n",
       "      <td>NaN</td>\n",
       "      <td>NaN</td>\n",
       "    </tr>\n",
       "    <tr>\n",
       "      <th>Education_Num</th>\n",
       "      <td>16281</td>\n",
       "      <td>NaN</td>\n",
       "      <td>NaN</td>\n",
       "      <td>NaN</td>\n",
       "      <td>10.0729</td>\n",
       "      <td>2.56755</td>\n",
       "      <td>1</td>\n",
       "      <td>9</td>\n",
       "      <td>10</td>\n",
       "      <td>12</td>\n",
       "      <td>16</td>\n",
       "    </tr>\n",
       "    <tr>\n",
       "      <th>Martial_Status</th>\n",
       "      <td>16281</td>\n",
       "      <td>7</td>\n",
       "      <td>Married-civ-spouse</td>\n",
       "      <td>7403</td>\n",
       "      <td>NaN</td>\n",
       "      <td>NaN</td>\n",
       "      <td>NaN</td>\n",
       "      <td>NaN</td>\n",
       "      <td>NaN</td>\n",
       "      <td>NaN</td>\n",
       "      <td>NaN</td>\n",
       "    </tr>\n",
       "    <tr>\n",
       "      <th>Occupation</th>\n",
       "      <td>15315</td>\n",
       "      <td>14</td>\n",
       "      <td>Prof-specialty</td>\n",
       "      <td>2032</td>\n",
       "      <td>NaN</td>\n",
       "      <td>NaN</td>\n",
       "      <td>NaN</td>\n",
       "      <td>NaN</td>\n",
       "      <td>NaN</td>\n",
       "      <td>NaN</td>\n",
       "      <td>NaN</td>\n",
       "    </tr>\n",
       "    <tr>\n",
       "      <th>Relationship</th>\n",
       "      <td>16281</td>\n",
       "      <td>6</td>\n",
       "      <td>Husband</td>\n",
       "      <td>6523</td>\n",
       "      <td>NaN</td>\n",
       "      <td>NaN</td>\n",
       "      <td>NaN</td>\n",
       "      <td>NaN</td>\n",
       "      <td>NaN</td>\n",
       "      <td>NaN</td>\n",
       "      <td>NaN</td>\n",
       "    </tr>\n",
       "    <tr>\n",
       "      <th>Race</th>\n",
       "      <td>16281</td>\n",
       "      <td>5</td>\n",
       "      <td>White</td>\n",
       "      <td>13946</td>\n",
       "      <td>NaN</td>\n",
       "      <td>NaN</td>\n",
       "      <td>NaN</td>\n",
       "      <td>NaN</td>\n",
       "      <td>NaN</td>\n",
       "      <td>NaN</td>\n",
       "      <td>NaN</td>\n",
       "    </tr>\n",
       "    <tr>\n",
       "      <th>Sex</th>\n",
       "      <td>16281</td>\n",
       "      <td>2</td>\n",
       "      <td>Male</td>\n",
       "      <td>10860</td>\n",
       "      <td>NaN</td>\n",
       "      <td>NaN</td>\n",
       "      <td>NaN</td>\n",
       "      <td>NaN</td>\n",
       "      <td>NaN</td>\n",
       "      <td>NaN</td>\n",
       "      <td>NaN</td>\n",
       "    </tr>\n",
       "    <tr>\n",
       "      <th>Capital_Gain</th>\n",
       "      <td>16281</td>\n",
       "      <td>NaN</td>\n",
       "      <td>NaN</td>\n",
       "      <td>NaN</td>\n",
       "      <td>1081.91</td>\n",
       "      <td>7583.94</td>\n",
       "      <td>0</td>\n",
       "      <td>0</td>\n",
       "      <td>0</td>\n",
       "      <td>0</td>\n",
       "      <td>99999</td>\n",
       "    </tr>\n",
       "    <tr>\n",
       "      <th>Capital_Loss</th>\n",
       "      <td>16281</td>\n",
       "      <td>NaN</td>\n",
       "      <td>NaN</td>\n",
       "      <td>NaN</td>\n",
       "      <td>87.8993</td>\n",
       "      <td>403.105</td>\n",
       "      <td>0</td>\n",
       "      <td>0</td>\n",
       "      <td>0</td>\n",
       "      <td>0</td>\n",
       "      <td>3770</td>\n",
       "    </tr>\n",
       "    <tr>\n",
       "      <th>Hours_per_week</th>\n",
       "      <td>16281</td>\n",
       "      <td>NaN</td>\n",
       "      <td>NaN</td>\n",
       "      <td>NaN</td>\n",
       "      <td>40.3922</td>\n",
       "      <td>12.4793</td>\n",
       "      <td>1</td>\n",
       "      <td>40</td>\n",
       "      <td>40</td>\n",
       "      <td>45</td>\n",
       "      <td>99</td>\n",
       "    </tr>\n",
       "    <tr>\n",
       "      <th>Country</th>\n",
       "      <td>16007</td>\n",
       "      <td>40</td>\n",
       "      <td>United-States</td>\n",
       "      <td>14662</td>\n",
       "      <td>NaN</td>\n",
       "      <td>NaN</td>\n",
       "      <td>NaN</td>\n",
       "      <td>NaN</td>\n",
       "      <td>NaN</td>\n",
       "      <td>NaN</td>\n",
       "      <td>NaN</td>\n",
       "    </tr>\n",
       "    <tr>\n",
       "      <th>Target</th>\n",
       "      <td>16281</td>\n",
       "      <td>2</td>\n",
       "      <td>0</td>\n",
       "      <td>12435</td>\n",
       "      <td>NaN</td>\n",
       "      <td>NaN</td>\n",
       "      <td>NaN</td>\n",
       "      <td>NaN</td>\n",
       "      <td>NaN</td>\n",
       "      <td>NaN</td>\n",
       "      <td>NaN</td>\n",
       "    </tr>\n",
       "  </tbody>\n",
       "</table>\n",
       "</div>"
      ],
      "text/plain": [
       "                count unique                  top   freq     mean      std  \\\n",
       "Age             16281     73                   35    461      NaN      NaN   \n",
       "Workclass       15318      8              Private  11210      NaN      NaN   \n",
       "fnlwgt          16281    NaN                  NaN    NaN   189436   105715   \n",
       "Education       16281     16              HS-grad   5283      NaN      NaN   \n",
       "Education_Num   16281    NaN                  NaN    NaN  10.0729  2.56755   \n",
       "Martial_Status  16281      7   Married-civ-spouse   7403      NaN      NaN   \n",
       "Occupation      15315     14       Prof-specialty   2032      NaN      NaN   \n",
       "Relationship    16281      6              Husband   6523      NaN      NaN   \n",
       "Race            16281      5                White  13946      NaN      NaN   \n",
       "Sex             16281      2                 Male  10860      NaN      NaN   \n",
       "Capital_Gain    16281    NaN                  NaN    NaN  1081.91  7583.94   \n",
       "Capital_Loss    16281    NaN                  NaN    NaN  87.8993  403.105   \n",
       "Hours_per_week  16281    NaN                  NaN    NaN  40.3922  12.4793   \n",
       "Country         16007     40        United-States  14662      NaN      NaN   \n",
       "Target          16281      2                    0  12435      NaN      NaN   \n",
       "\n",
       "                  min     25%     50%     75%         max  \n",
       "Age               NaN     NaN     NaN     NaN         NaN  \n",
       "Workclass         NaN     NaN     NaN     NaN         NaN  \n",
       "fnlwgt          13492  116736  177831  238384  1.4904e+06  \n",
       "Education         NaN     NaN     NaN     NaN         NaN  \n",
       "Education_Num       1       9      10      12          16  \n",
       "Martial_Status    NaN     NaN     NaN     NaN         NaN  \n",
       "Occupation        NaN     NaN     NaN     NaN         NaN  \n",
       "Relationship      NaN     NaN     NaN     NaN         NaN  \n",
       "Race              NaN     NaN     NaN     NaN         NaN  \n",
       "Sex               NaN     NaN     NaN     NaN         NaN  \n",
       "Capital_Gain        0       0       0       0       99999  \n",
       "Capital_Loss        0       0       0       0        3770  \n",
       "Hours_per_week      1      40      40      45          99  \n",
       "Country           NaN     NaN     NaN     NaN         NaN  \n",
       "Target            NaN     NaN     NaN     NaN         NaN  "
      ]
     },
     "execution_count": 23,
     "metadata": {},
     "output_type": "execute_result"
    }
   ],
   "source": [
    "data_test.describe(include='all').T"
   ]
  },
  {
   "cell_type": "code",
   "execution_count": 24,
   "metadata": {
    "collapsed": false,
    "deletable": true,
    "editable": true
   },
   "outputs": [
    {
     "data": {
      "text/plain": [
       "0    24720\n",
       "1     7841\n",
       "Name: Target, dtype: int64"
      ]
     },
     "execution_count": 24,
     "metadata": {},
     "output_type": "execute_result"
    }
   ],
   "source": [
    "data_train['Target'].value_counts()"
   ]
  },
  {
   "cell_type": "code",
   "execution_count": 25,
   "metadata": {
    "collapsed": false,
    "deletable": true,
    "editable": true
   },
   "outputs": [
    {
     "data": {
      "image/png": "iVBORw0KGgoAAAANSUhEUgAABaQAAAPYCAYAAAAl6v4kAAAABHNCSVQICAgIfAhkiAAAAAlwSFlz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\n6voAAAAASUVORK5CYII=\n",
      "text/plain": [
       "<matplotlib.figure.Figure at 0x11572d470>"
      ]
     },
     "metadata": {},
     "output_type": "display_data"
    }
   ],
   "source": [
    "fig = plt.figure(figsize=(25, 15))\n",
    "cols = 5\n",
    "rows = np.ceil(float(data_train.shape[1]) / cols)\n",
    "for i, column in enumerate(data_train.columns):\n",
    "    ax = fig.add_subplot(rows, cols, i + 1)\n",
    "    ax.set_title(column)\n",
    "    if data_train.dtypes[column] == np.object:\n",
    "        data_train[column].value_counts().plot(kind=\"bar\", axes=ax)\n",
    "    else:\n",
    "        data_train[column].hist(axes=ax)\n",
    "        plt.xticks(rotation=\"vertical\")\n",
    "plt.subplots_adjust(hspace=0.7, wspace=0.2)"
   ]
  },
  {
   "cell_type": "markdown",
   "metadata": {
    "deletable": true,
    "editable": true
   },
   "source": [
    "**Провеяем типы данных**"
   ]
  },
  {
   "cell_type": "code",
   "execution_count": 26,
   "metadata": {
    "collapsed": false,
    "deletable": true,
    "editable": true
   },
   "outputs": [
    {
     "data": {
      "text/plain": [
       "Age                int64\n",
       "Workclass         object\n",
       "fnlwgt             int64\n",
       "Education         object\n",
       "Education_Num      int64\n",
       "Martial_Status    object\n",
       "Occupation        object\n",
       "Relationship      object\n",
       "Race              object\n",
       "Sex               object\n",
       "Capital_Gain       int64\n",
       "Capital_Loss       int64\n",
       "Hours_per_week     int64\n",
       "Country           object\n",
       "Target            object\n",
       "dtype: object"
      ]
     },
     "execution_count": 26,
     "metadata": {},
     "output_type": "execute_result"
    }
   ],
   "source": [
    "data_train.dtypes"
   ]
  },
  {
   "cell_type": "code",
   "execution_count": 27,
   "metadata": {
    "collapsed": false,
    "deletable": true,
    "editable": true
   },
   "outputs": [
    {
     "data": {
      "text/plain": [
       "Age                object\n",
       "Workclass          object\n",
       "fnlwgt            float64\n",
       "Education          object\n",
       "Education_Num     float64\n",
       "Martial_Status     object\n",
       "Occupation         object\n",
       "Relationship       object\n",
       "Race               object\n",
       "Sex                object\n",
       "Capital_Gain      float64\n",
       "Capital_Loss      float64\n",
       "Hours_per_week    float64\n",
       "Country            object\n",
       "Target             object\n",
       "dtype: object"
      ]
     },
     "execution_count": 27,
     "metadata": {},
     "output_type": "execute_result"
    }
   ],
   "source": [
    "data_test.dtypes"
   ]
  },
  {
   "cell_type": "markdown",
   "metadata": {
    "deletable": true,
    "editable": true
   },
   "source": [
    "Выяснилось, что в тесте возраст отнесен к типу object, необходимо это исправить."
   ]
  },
  {
   "cell_type": "code",
   "execution_count": 28,
   "metadata": {
    "collapsed": false,
    "deletable": true,
    "editable": true
   },
   "outputs": [],
   "source": [
    "data_test['Age'] = data_test['Age'].astype(int)"
   ]
  },
  {
   "cell_type": "markdown",
   "metadata": {
    "deletable": true,
    "editable": true
   },
   "source": [
    "Также приведем показатели типа float в int для соответствия train и test выборок."
   ]
  },
  {
   "cell_type": "code",
   "execution_count": 29,
   "metadata": {
    "collapsed": true,
    "deletable": true,
    "editable": true
   },
   "outputs": [],
   "source": [
    "data_test['fnlwgt'] = data_test['fnlwgt'].astype(int)\n",
    "data_test['Education_Num'] = data_test['Education_Num'].astype(int)\n",
    "data_test['Capital_Gain'] = data_test['Capital_Gain'].astype(int)\n",
    "data_test['Capital_Loss'] = data_test['Capital_Loss'].astype(int)\n",
    "data_test['Hours_per_week'] = data_test['Hours_per_week'].astype(int)"
   ]
  },
  {
   "cell_type": "markdown",
   "metadata": {
    "deletable": true,
    "editable": true
   },
   "source": [
    "**Заполним пропуски в количественных полях медианными значениями, а в категориальных – наиболее часто встречающимся значением**"
   ]
  },
  {
   "cell_type": "code",
   "execution_count": 30,
   "metadata": {
    "collapsed": false,
    "deletable": true,
    "editable": true
   },
   "outputs": [
    {
     "name": "stdout",
     "output_type": "stream",
     "text": [
      "categorical_columns_test: ['Workclass', 'Education', 'Martial_Status', 'Occupation', 'Relationship', 'Race', 'Sex', 'Country', 'Target']\n",
      "categorical_columns_train: ['Workclass', 'Education', 'Martial_Status', 'Occupation', 'Relationship', 'Race', 'Sex', 'Country', 'Target']\n",
      "numerical_columns_test: ['Age', 'fnlwgt', 'Education_Num', 'Capital_Gain', 'Capital_Loss', 'Hours_per_week']\n",
      "numerical_columns_train: ['Age', 'fnlwgt', 'Education_Num', 'Capital_Gain', 'Capital_Loss', 'Hours_per_week']\n"
     ]
    }
   ],
   "source": [
    "# выделим в выборках категориальные и числовые поля\n",
    "\n",
    "categorical_columns_train = [c for c in data_train.columns \n",
    "                             if data_train[c].dtype.name == 'object']\n",
    "numerical_columns_train = [c for c in data_train.columns \n",
    "                           if data_train[c].dtype.name != 'object']\n",
    "\n",
    "categorical_columns_test = [c for c in data_test.columns \n",
    "                            if data_test[c].dtype.name == 'object']\n",
    "numerical_columns_test = [c for c in data_test.columns \n",
    "                          if data_test[c].dtype.name != 'object']\n",
    "\n",
    "print('categorical_columns_test:', categorical_columns_test)\n",
    "print('categorical_columns_train:', categorical_columns_train)\n",
    "print('numerical_columns_test:', numerical_columns_test)\n",
    "print('numerical_columns_train:', numerical_columns_train)"
   ]
  },
  {
   "cell_type": "code",
   "execution_count": 31,
   "metadata": {
    "collapsed": false,
    "deletable": true,
    "editable": true
   },
   "outputs": [],
   "source": [
    "# заполним пропуски\n",
    "\n",
    "for c in categorical_columns_train:\n",
    "    data_train[c] = data_train[c].fillna(data_train[c].mode())\n",
    "for c in categorical_columns_test:\n",
    "    data_test[c] = data_test[c].fillna(data_train[c].mode())\n",
    "    \n",
    "for c in numerical_columns_train:\n",
    "    data_train[c] = data_train[c].fillna(data_train[c].median())\n",
    "for c in numerical_columns_test:\n",
    "    data_test[c] = data_test[c].fillna(data_train[c].median())    "
   ]
  },
  {
   "cell_type": "markdown",
   "metadata": {
    "deletable": true,
    "editable": true
   },
   "source": [
    "**Кодируем категориальные признаки 'Workclass', 'Education', 'Martial_Status', 'Occupation', 'Relationship', 'Race', 'Sex', 'Country'. Это можно сделать с помощью метода `pandas get_dummies`.**"
   ]
  },
  {
   "cell_type": "code",
   "execution_count": 32,
   "metadata": {
    "collapsed": true,
    "deletable": true,
    "editable": true
   },
   "outputs": [],
   "source": [
    "data_train = pd.concat([data_train, pd.get_dummies(data_train['Workclass'], \n",
    "                                                   prefix=\"Workclass\"),\n",
    "                      pd.get_dummies(data_train['Education'], prefix=\"Education\"),\n",
    "                      pd.get_dummies(data_train['Martial_Status'], prefix=\"Martial_Status\"),\n",
    "                      pd.get_dummies(data_train['Occupation'], prefix=\"Occupation\"),\n",
    "                      pd.get_dummies(data_train['Relationship'], prefix=\"Relationship\"),\n",
    "                      pd.get_dummies(data_train['Race'], prefix=\"Race\"),\n",
    "                      pd.get_dummies(data_train['Sex'], prefix=\"Sex\"),\n",
    "                      pd.get_dummies(data_train['Country'], prefix=\"Country\")],\n",
    "                     axis=1)\n",
    "\n",
    "data_test = pd.concat([data_test, pd.get_dummies(data_test['Workclass'], prefix=\"Workclass\"),\n",
    "                      pd.get_dummies(data_test['Education'], prefix=\"Education\"),\n",
    "                      pd.get_dummies(data_test['Martial_Status'], prefix=\"Martial_Status\"),\n",
    "                      pd.get_dummies(data_test['Occupation'], prefix=\"Occupation\"),\n",
    "                      pd.get_dummies(data_test['Relationship'], prefix=\"Relationship\"),\n",
    "                      pd.get_dummies(data_test['Race'], prefix=\"Race\"),\n",
    "                      pd.get_dummies(data_test['Sex'], prefix=\"Sex\"),\n",
    "                      pd.get_dummies(data_test['Country'], prefix=\"Country\")],\n",
    "                     axis=1)"
   ]
  },
  {
   "cell_type": "code",
   "execution_count": 33,
   "metadata": {
    "collapsed": true,
    "deletable": true,
    "editable": true
   },
   "outputs": [],
   "source": [
    "data_train.drop(['Workclass', 'Education', 'Martial_Status',\n",
    "                 'Occupation', 'Relationship', 'Race', 'Sex', 'Country'],\n",
    "                axis=1, inplace=True)\n",
    "data_test.drop(['Workclass', 'Education', 'Martial_Status', 'Occupation', \n",
    "                'Relationship', 'Race', 'Sex', 'Country'],\n",
    "               axis=1, inplace=True)"
   ]
  },
  {
   "cell_type": "code",
   "execution_count": 34,
   "metadata": {
    "collapsed": false,
    "deletable": true,
    "editable": true
   },
   "outputs": [
    {
     "data": {
      "text/html": [
       "<div>\n",
       "<table border=\"1\" class=\"dataframe\">\n",
       "  <thead>\n",
       "    <tr style=\"text-align: right;\">\n",
       "      <th></th>\n",
       "      <th>count</th>\n",
       "      <th>mean</th>\n",
       "      <th>std</th>\n",
       "      <th>min</th>\n",
       "      <th>25%</th>\n",
       "      <th>50%</th>\n",
       "      <th>75%</th>\n",
       "      <th>max</th>\n",
       "    </tr>\n",
       "  </thead>\n",
       "  <tbody>\n",
       "    <tr>\n",
       "      <th>Age</th>\n",
       "      <td>16281.0</td>\n",
       "      <td>38.767459</td>\n",
       "      <td>13.849187</td>\n",
       "      <td>17.0</td>\n",
       "      <td>28.0</td>\n",
       "      <td>37.0</td>\n",
       "      <td>48.0</td>\n",
       "      <td>90.0</td>\n",
       "    </tr>\n",
       "    <tr>\n",
       "      <th>fnlwgt</th>\n",
       "      <td>16281.0</td>\n",
       "      <td>189435.677784</td>\n",
       "      <td>105714.907671</td>\n",
       "      <td>13492.0</td>\n",
       "      <td>116736.0</td>\n",
       "      <td>177831.0</td>\n",
       "      <td>238384.0</td>\n",
       "      <td>1490400.0</td>\n",
       "    </tr>\n",
       "    <tr>\n",
       "      <th>Education_Num</th>\n",
       "      <td>16281.0</td>\n",
       "      <td>10.072907</td>\n",
       "      <td>2.567545</td>\n",
       "      <td>1.0</td>\n",
       "      <td>9.0</td>\n",
       "      <td>10.0</td>\n",
       "      <td>12.0</td>\n",
       "      <td>16.0</td>\n",
       "    </tr>\n",
       "    <tr>\n",
       "      <th>Capital_Gain</th>\n",
       "      <td>16281.0</td>\n",
       "      <td>1081.905104</td>\n",
       "      <td>7583.935968</td>\n",
       "      <td>0.0</td>\n",
       "      <td>0.0</td>\n",
       "      <td>0.0</td>\n",
       "      <td>0.0</td>\n",
       "      <td>99999.0</td>\n",
       "    </tr>\n",
       "    <tr>\n",
       "      <th>Capital_Loss</th>\n",
       "      <td>16281.0</td>\n",
       "      <td>87.899269</td>\n",
       "      <td>403.105286</td>\n",
       "      <td>0.0</td>\n",
       "      <td>0.0</td>\n",
       "      <td>0.0</td>\n",
       "      <td>0.0</td>\n",
       "      <td>3770.0</td>\n",
       "    </tr>\n",
       "    <tr>\n",
       "      <th>Hours_per_week</th>\n",
       "      <td>16281.0</td>\n",
       "      <td>40.392236</td>\n",
       "      <td>12.479332</td>\n",
       "      <td>1.0</td>\n",
       "      <td>40.0</td>\n",
       "      <td>40.0</td>\n",
       "      <td>45.0</td>\n",
       "      <td>99.0</td>\n",
       "    </tr>\n",
       "    <tr>\n",
       "      <th>Target</th>\n",
       "      <td>16281.0</td>\n",
       "      <td>0.236226</td>\n",
       "      <td>0.424776</td>\n",
       "      <td>0.0</td>\n",
       "      <td>0.0</td>\n",
       "      <td>0.0</td>\n",
       "      <td>0.0</td>\n",
       "      <td>1.0</td>\n",
       "    </tr>\n",
       "    <tr>\n",
       "      <th>Workclass_ Federal-gov</th>\n",
       "      <td>16281.0</td>\n",
       "      <td>0.028991</td>\n",
       "      <td>0.167786</td>\n",
       "      <td>0.0</td>\n",
       "      <td>0.0</td>\n",
       "      <td>0.0</td>\n",
       "      <td>0.0</td>\n",
       "      <td>1.0</td>\n",
       "    </tr>\n",
       "    <tr>\n",
       "      <th>Workclass_ Local-gov</th>\n",
       "      <td>16281.0</td>\n",
       "      <td>0.064062</td>\n",
       "      <td>0.244872</td>\n",
       "      <td>0.0</td>\n",
       "      <td>0.0</td>\n",
       "      <td>0.0</td>\n",
       "      <td>0.0</td>\n",
       "      <td>1.0</td>\n",
       "    </tr>\n",
       "    <tr>\n",
       "      <th>Workclass_ Never-worked</th>\n",
       "      <td>16281.0</td>\n",
       "      <td>0.000184</td>\n",
       "      <td>0.013574</td>\n",
       "      <td>0.0</td>\n",
       "      <td>0.0</td>\n",
       "      <td>0.0</td>\n",
       "      <td>0.0</td>\n",
       "      <td>1.0</td>\n",
       "    </tr>\n",
       "    <tr>\n",
       "      <th>Workclass_ Private</th>\n",
       "      <td>16281.0</td>\n",
       "      <td>0.747681</td>\n",
       "      <td>0.434356</td>\n",
       "      <td>0.0</td>\n",
       "      <td>0.0</td>\n",
       "      <td>1.0</td>\n",
       "      <td>1.0</td>\n",
       "      <td>1.0</td>\n",
       "    </tr>\n",
       "    <tr>\n",
       "      <th>Workclass_ Self-emp-inc</th>\n",
       "      <td>16281.0</td>\n",
       "      <td>0.035563</td>\n",
       "      <td>0.185203</td>\n",
       "      <td>0.0</td>\n",
       "      <td>0.0</td>\n",
       "      <td>0.0</td>\n",
       "      <td>0.0</td>\n",
       "      <td>1.0</td>\n",
       "    </tr>\n",
       "    <tr>\n",
       "      <th>Workclass_ Self-emp-not-inc</th>\n",
       "      <td>16281.0</td>\n",
       "      <td>0.081138</td>\n",
       "      <td>0.273055</td>\n",
       "      <td>0.0</td>\n",
       "      <td>0.0</td>\n",
       "      <td>0.0</td>\n",
       "      <td>0.0</td>\n",
       "      <td>1.0</td>\n",
       "    </tr>\n",
       "    <tr>\n",
       "      <th>Workclass_ State-gov</th>\n",
       "      <td>16281.0</td>\n",
       "      <td>0.041951</td>\n",
       "      <td>0.200483</td>\n",
       "      <td>0.0</td>\n",
       "      <td>0.0</td>\n",
       "      <td>0.0</td>\n",
       "      <td>0.0</td>\n",
       "      <td>1.0</td>\n",
       "    </tr>\n",
       "    <tr>\n",
       "      <th>Workclass_ Without-pay</th>\n",
       "      <td>16281.0</td>\n",
       "      <td>0.000430</td>\n",
       "      <td>0.020731</td>\n",
       "      <td>0.0</td>\n",
       "      <td>0.0</td>\n",
       "      <td>0.0</td>\n",
       "      <td>0.0</td>\n",
       "      <td>1.0</td>\n",
       "    </tr>\n",
       "    <tr>\n",
       "      <th>Education_ 10th</th>\n",
       "      <td>16281.0</td>\n",
       "      <td>0.028008</td>\n",
       "      <td>0.165001</td>\n",
       "      <td>0.0</td>\n",
       "      <td>0.0</td>\n",
       "      <td>0.0</td>\n",
       "      <td>0.0</td>\n",
       "      <td>1.0</td>\n",
       "    </tr>\n",
       "    <tr>\n",
       "      <th>Education_ 11th</th>\n",
       "      <td>16281.0</td>\n",
       "      <td>0.039125</td>\n",
       "      <td>0.193899</td>\n",
       "      <td>0.0</td>\n",
       "      <td>0.0</td>\n",
       "      <td>0.0</td>\n",
       "      <td>0.0</td>\n",
       "      <td>1.0</td>\n",
       "    </tr>\n",
       "    <tr>\n",
       "      <th>Education_ 12th</th>\n",
       "      <td>16281.0</td>\n",
       "      <td>0.013758</td>\n",
       "      <td>0.116490</td>\n",
       "      <td>0.0</td>\n",
       "      <td>0.0</td>\n",
       "      <td>0.0</td>\n",
       "      <td>0.0</td>\n",
       "      <td>1.0</td>\n",
       "    </tr>\n",
       "    <tr>\n",
       "      <th>Education_ 1st-4th</th>\n",
       "      <td>16281.0</td>\n",
       "      <td>0.004852</td>\n",
       "      <td>0.069491</td>\n",
       "      <td>0.0</td>\n",
       "      <td>0.0</td>\n",
       "      <td>0.0</td>\n",
       "      <td>0.0</td>\n",
       "      <td>1.0</td>\n",
       "    </tr>\n",
       "    <tr>\n",
       "      <th>Education_ 5th-6th</th>\n",
       "      <td>16281.0</td>\n",
       "      <td>0.010810</td>\n",
       "      <td>0.103412</td>\n",
       "      <td>0.0</td>\n",
       "      <td>0.0</td>\n",
       "      <td>0.0</td>\n",
       "      <td>0.0</td>\n",
       "      <td>1.0</td>\n",
       "    </tr>\n",
       "    <tr>\n",
       "      <th>Education_ 7th-8th</th>\n",
       "      <td>16281.0</td>\n",
       "      <td>0.018979</td>\n",
       "      <td>0.136456</td>\n",
       "      <td>0.0</td>\n",
       "      <td>0.0</td>\n",
       "      <td>0.0</td>\n",
       "      <td>0.0</td>\n",
       "      <td>1.0</td>\n",
       "    </tr>\n",
       "    <tr>\n",
       "      <th>Education_ 9th</th>\n",
       "      <td>16281.0</td>\n",
       "      <td>0.014864</td>\n",
       "      <td>0.121012</td>\n",
       "      <td>0.0</td>\n",
       "      <td>0.0</td>\n",
       "      <td>0.0</td>\n",
       "      <td>0.0</td>\n",
       "      <td>1.0</td>\n",
       "    </tr>\n",
       "    <tr>\n",
       "      <th>Education_ Assoc-acdm</th>\n",
       "      <td>16281.0</td>\n",
       "      <td>0.032799</td>\n",
       "      <td>0.178116</td>\n",
       "      <td>0.0</td>\n",
       "      <td>0.0</td>\n",
       "      <td>0.0</td>\n",
       "      <td>0.0</td>\n",
       "      <td>1.0</td>\n",
       "    </tr>\n",
       "    <tr>\n",
       "      <th>Education_ Assoc-voc</th>\n",
       "      <td>16281.0</td>\n",
       "      <td>0.041705</td>\n",
       "      <td>0.199920</td>\n",
       "      <td>0.0</td>\n",
       "      <td>0.0</td>\n",
       "      <td>0.0</td>\n",
       "      <td>0.0</td>\n",
       "      <td>1.0</td>\n",
       "    </tr>\n",
       "    <tr>\n",
       "      <th>Education_ Bachelors</th>\n",
       "      <td>16281.0</td>\n",
       "      <td>0.163995</td>\n",
       "      <td>0.370282</td>\n",
       "      <td>0.0</td>\n",
       "      <td>0.0</td>\n",
       "      <td>0.0</td>\n",
       "      <td>0.0</td>\n",
       "      <td>1.0</td>\n",
       "    </tr>\n",
       "    <tr>\n",
       "      <th>Education_ Doctorate</th>\n",
       "      <td>16281.0</td>\n",
       "      <td>0.011117</td>\n",
       "      <td>0.104854</td>\n",
       "      <td>0.0</td>\n",
       "      <td>0.0</td>\n",
       "      <td>0.0</td>\n",
       "      <td>0.0</td>\n",
       "      <td>1.0</td>\n",
       "    </tr>\n",
       "    <tr>\n",
       "      <th>Education_ HS-grad</th>\n",
       "      <td>16281.0</td>\n",
       "      <td>0.324489</td>\n",
       "      <td>0.468198</td>\n",
       "      <td>0.0</td>\n",
       "      <td>0.0</td>\n",
       "      <td>0.0</td>\n",
       "      <td>1.0</td>\n",
       "      <td>1.0</td>\n",
       "    </tr>\n",
       "    <tr>\n",
       "      <th>Education_ Masters</th>\n",
       "      <td>16281.0</td>\n",
       "      <td>0.057367</td>\n",
       "      <td>0.232551</td>\n",
       "      <td>0.0</td>\n",
       "      <td>0.0</td>\n",
       "      <td>0.0</td>\n",
       "      <td>0.0</td>\n",
       "      <td>1.0</td>\n",
       "    </tr>\n",
       "    <tr>\n",
       "      <th>Education_ Preschool</th>\n",
       "      <td>16281.0</td>\n",
       "      <td>0.001965</td>\n",
       "      <td>0.044292</td>\n",
       "      <td>0.0</td>\n",
       "      <td>0.0</td>\n",
       "      <td>0.0</td>\n",
       "      <td>0.0</td>\n",
       "      <td>1.0</td>\n",
       "    </tr>\n",
       "    <tr>\n",
       "      <th>Education_ Prof-school</th>\n",
       "      <td>16281.0</td>\n",
       "      <td>0.015847</td>\n",
       "      <td>0.124886</td>\n",
       "      <td>0.0</td>\n",
       "      <td>0.0</td>\n",
       "      <td>0.0</td>\n",
       "      <td>0.0</td>\n",
       "      <td>1.0</td>\n",
       "    </tr>\n",
       "    <tr>\n",
       "      <th>...</th>\n",
       "      <td>...</td>\n",
       "      <td>...</td>\n",
       "      <td>...</td>\n",
       "      <td>...</td>\n",
       "      <td>...</td>\n",
       "      <td>...</td>\n",
       "      <td>...</td>\n",
       "      <td>...</td>\n",
       "    </tr>\n",
       "    <tr>\n",
       "      <th>Country_ Germany</th>\n",
       "      <td>16281.0</td>\n",
       "      <td>0.004238</td>\n",
       "      <td>0.064964</td>\n",
       "      <td>0.0</td>\n",
       "      <td>0.0</td>\n",
       "      <td>0.0</td>\n",
       "      <td>0.0</td>\n",
       "      <td>1.0</td>\n",
       "    </tr>\n",
       "    <tr>\n",
       "      <th>Country_ Greece</th>\n",
       "      <td>16281.0</td>\n",
       "      <td>0.001228</td>\n",
       "      <td>0.035028</td>\n",
       "      <td>0.0</td>\n",
       "      <td>0.0</td>\n",
       "      <td>0.0</td>\n",
       "      <td>0.0</td>\n",
       "      <td>1.0</td>\n",
       "    </tr>\n",
       "    <tr>\n",
       "      <th>Country_ Guatemala</th>\n",
       "      <td>16281.0</td>\n",
       "      <td>0.001474</td>\n",
       "      <td>0.038367</td>\n",
       "      <td>0.0</td>\n",
       "      <td>0.0</td>\n",
       "      <td>0.0</td>\n",
       "      <td>0.0</td>\n",
       "      <td>1.0</td>\n",
       "    </tr>\n",
       "    <tr>\n",
       "      <th>Country_ Haiti</th>\n",
       "      <td>16281.0</td>\n",
       "      <td>0.001904</td>\n",
       "      <td>0.043595</td>\n",
       "      <td>0.0</td>\n",
       "      <td>0.0</td>\n",
       "      <td>0.0</td>\n",
       "      <td>0.0</td>\n",
       "      <td>1.0</td>\n",
       "    </tr>\n",
       "    <tr>\n",
       "      <th>Country_ Honduras</th>\n",
       "      <td>16281.0</td>\n",
       "      <td>0.000430</td>\n",
       "      <td>0.020731</td>\n",
       "      <td>0.0</td>\n",
       "      <td>0.0</td>\n",
       "      <td>0.0</td>\n",
       "      <td>0.0</td>\n",
       "      <td>1.0</td>\n",
       "    </tr>\n",
       "    <tr>\n",
       "      <th>Country_ Hong</th>\n",
       "      <td>16281.0</td>\n",
       "      <td>0.000614</td>\n",
       "      <td>0.024776</td>\n",
       "      <td>0.0</td>\n",
       "      <td>0.0</td>\n",
       "      <td>0.0</td>\n",
       "      <td>0.0</td>\n",
       "      <td>1.0</td>\n",
       "    </tr>\n",
       "    <tr>\n",
       "      <th>Country_ Hungary</th>\n",
       "      <td>16281.0</td>\n",
       "      <td>0.000369</td>\n",
       "      <td>0.019194</td>\n",
       "      <td>0.0</td>\n",
       "      <td>0.0</td>\n",
       "      <td>0.0</td>\n",
       "      <td>0.0</td>\n",
       "      <td>1.0</td>\n",
       "    </tr>\n",
       "    <tr>\n",
       "      <th>Country_ India</th>\n",
       "      <td>16281.0</td>\n",
       "      <td>0.003132</td>\n",
       "      <td>0.055883</td>\n",
       "      <td>0.0</td>\n",
       "      <td>0.0</td>\n",
       "      <td>0.0</td>\n",
       "      <td>0.0</td>\n",
       "      <td>1.0</td>\n",
       "    </tr>\n",
       "    <tr>\n",
       "      <th>Country_ Iran</th>\n",
       "      <td>16281.0</td>\n",
       "      <td>0.000983</td>\n",
       "      <td>0.031334</td>\n",
       "      <td>0.0</td>\n",
       "      <td>0.0</td>\n",
       "      <td>0.0</td>\n",
       "      <td>0.0</td>\n",
       "      <td>1.0</td>\n",
       "    </tr>\n",
       "    <tr>\n",
       "      <th>Country_ Ireland</th>\n",
       "      <td>16281.0</td>\n",
       "      <td>0.000798</td>\n",
       "      <td>0.028247</td>\n",
       "      <td>0.0</td>\n",
       "      <td>0.0</td>\n",
       "      <td>0.0</td>\n",
       "      <td>0.0</td>\n",
       "      <td>1.0</td>\n",
       "    </tr>\n",
       "    <tr>\n",
       "      <th>Country_ Italy</th>\n",
       "      <td>16281.0</td>\n",
       "      <td>0.001965</td>\n",
       "      <td>0.044292</td>\n",
       "      <td>0.0</td>\n",
       "      <td>0.0</td>\n",
       "      <td>0.0</td>\n",
       "      <td>0.0</td>\n",
       "      <td>1.0</td>\n",
       "    </tr>\n",
       "    <tr>\n",
       "      <th>Country_ Jamaica</th>\n",
       "      <td>16281.0</td>\n",
       "      <td>0.001536</td>\n",
       "      <td>0.039157</td>\n",
       "      <td>0.0</td>\n",
       "      <td>0.0</td>\n",
       "      <td>0.0</td>\n",
       "      <td>0.0</td>\n",
       "      <td>1.0</td>\n",
       "    </tr>\n",
       "    <tr>\n",
       "      <th>Country_ Japan</th>\n",
       "      <td>16281.0</td>\n",
       "      <td>0.001843</td>\n",
       "      <td>0.042888</td>\n",
       "      <td>0.0</td>\n",
       "      <td>0.0</td>\n",
       "      <td>0.0</td>\n",
       "      <td>0.0</td>\n",
       "      <td>1.0</td>\n",
       "    </tr>\n",
       "    <tr>\n",
       "      <th>Country_ Laos</th>\n",
       "      <td>16281.0</td>\n",
       "      <td>0.000307</td>\n",
       "      <td>0.017522</td>\n",
       "      <td>0.0</td>\n",
       "      <td>0.0</td>\n",
       "      <td>0.0</td>\n",
       "      <td>0.0</td>\n",
       "      <td>1.0</td>\n",
       "    </tr>\n",
       "    <tr>\n",
       "      <th>Country_ Mexico</th>\n",
       "      <td>16281.0</td>\n",
       "      <td>0.018918</td>\n",
       "      <td>0.136239</td>\n",
       "      <td>0.0</td>\n",
       "      <td>0.0</td>\n",
       "      <td>0.0</td>\n",
       "      <td>0.0</td>\n",
       "      <td>1.0</td>\n",
       "    </tr>\n",
       "    <tr>\n",
       "      <th>Country_ Nicaragua</th>\n",
       "      <td>16281.0</td>\n",
       "      <td>0.000921</td>\n",
       "      <td>0.030340</td>\n",
       "      <td>0.0</td>\n",
       "      <td>0.0</td>\n",
       "      <td>0.0</td>\n",
       "      <td>0.0</td>\n",
       "      <td>1.0</td>\n",
       "    </tr>\n",
       "    <tr>\n",
       "      <th>Country_ Outlying-US(Guam-USVI-etc)</th>\n",
       "      <td>16281.0</td>\n",
       "      <td>0.000553</td>\n",
       "      <td>0.023506</td>\n",
       "      <td>0.0</td>\n",
       "      <td>0.0</td>\n",
       "      <td>0.0</td>\n",
       "      <td>0.0</td>\n",
       "      <td>1.0</td>\n",
       "    </tr>\n",
       "    <tr>\n",
       "      <th>Country_ Peru</th>\n",
       "      <td>16281.0</td>\n",
       "      <td>0.000921</td>\n",
       "      <td>0.030340</td>\n",
       "      <td>0.0</td>\n",
       "      <td>0.0</td>\n",
       "      <td>0.0</td>\n",
       "      <td>0.0</td>\n",
       "      <td>1.0</td>\n",
       "    </tr>\n",
       "    <tr>\n",
       "      <th>Country_ Philippines</th>\n",
       "      <td>16281.0</td>\n",
       "      <td>0.005958</td>\n",
       "      <td>0.076959</td>\n",
       "      <td>0.0</td>\n",
       "      <td>0.0</td>\n",
       "      <td>0.0</td>\n",
       "      <td>0.0</td>\n",
       "      <td>1.0</td>\n",
       "    </tr>\n",
       "    <tr>\n",
       "      <th>Country_ Poland</th>\n",
       "      <td>16281.0</td>\n",
       "      <td>0.001658</td>\n",
       "      <td>0.040691</td>\n",
       "      <td>0.0</td>\n",
       "      <td>0.0</td>\n",
       "      <td>0.0</td>\n",
       "      <td>0.0</td>\n",
       "      <td>1.0</td>\n",
       "    </tr>\n",
       "    <tr>\n",
       "      <th>Country_ Portugal</th>\n",
       "      <td>16281.0</td>\n",
       "      <td>0.001843</td>\n",
       "      <td>0.042888</td>\n",
       "      <td>0.0</td>\n",
       "      <td>0.0</td>\n",
       "      <td>0.0</td>\n",
       "      <td>0.0</td>\n",
       "      <td>1.0</td>\n",
       "    </tr>\n",
       "    <tr>\n",
       "      <th>Country_ Puerto-Rico</th>\n",
       "      <td>16281.0</td>\n",
       "      <td>0.004299</td>\n",
       "      <td>0.065431</td>\n",
       "      <td>0.0</td>\n",
       "      <td>0.0</td>\n",
       "      <td>0.0</td>\n",
       "      <td>0.0</td>\n",
       "      <td>1.0</td>\n",
       "    </tr>\n",
       "    <tr>\n",
       "      <th>Country_ Scotland</th>\n",
       "      <td>16281.0</td>\n",
       "      <td>0.000553</td>\n",
       "      <td>0.023506</td>\n",
       "      <td>0.0</td>\n",
       "      <td>0.0</td>\n",
       "      <td>0.0</td>\n",
       "      <td>0.0</td>\n",
       "      <td>1.0</td>\n",
       "    </tr>\n",
       "    <tr>\n",
       "      <th>Country_ South</th>\n",
       "      <td>16281.0</td>\n",
       "      <td>0.002150</td>\n",
       "      <td>0.046317</td>\n",
       "      <td>0.0</td>\n",
       "      <td>0.0</td>\n",
       "      <td>0.0</td>\n",
       "      <td>0.0</td>\n",
       "      <td>1.0</td>\n",
       "    </tr>\n",
       "    <tr>\n",
       "      <th>Country_ Taiwan</th>\n",
       "      <td>16281.0</td>\n",
       "      <td>0.000860</td>\n",
       "      <td>0.029312</td>\n",
       "      <td>0.0</td>\n",
       "      <td>0.0</td>\n",
       "      <td>0.0</td>\n",
       "      <td>0.0</td>\n",
       "      <td>1.0</td>\n",
       "    </tr>\n",
       "    <tr>\n",
       "      <th>Country_ Thailand</th>\n",
       "      <td>16281.0</td>\n",
       "      <td>0.000737</td>\n",
       "      <td>0.027140</td>\n",
       "      <td>0.0</td>\n",
       "      <td>0.0</td>\n",
       "      <td>0.0</td>\n",
       "      <td>0.0</td>\n",
       "      <td>1.0</td>\n",
       "    </tr>\n",
       "    <tr>\n",
       "      <th>Country_ Trinadad&amp;Tobago</th>\n",
       "      <td>16281.0</td>\n",
       "      <td>0.000491</td>\n",
       "      <td>0.022162</td>\n",
       "      <td>0.0</td>\n",
       "      <td>0.0</td>\n",
       "      <td>0.0</td>\n",
       "      <td>0.0</td>\n",
       "      <td>1.0</td>\n",
       "    </tr>\n",
       "    <tr>\n",
       "      <th>Country_ United-States</th>\n",
       "      <td>16281.0</td>\n",
       "      <td>0.917388</td>\n",
       "      <td>0.275303</td>\n",
       "      <td>0.0</td>\n",
       "      <td>1.0</td>\n",
       "      <td>1.0</td>\n",
       "      <td>1.0</td>\n",
       "      <td>1.0</td>\n",
       "    </tr>\n",
       "    <tr>\n",
       "      <th>Country_ Vietnam</th>\n",
       "      <td>16281.0</td>\n",
       "      <td>0.001167</td>\n",
       "      <td>0.034143</td>\n",
       "      <td>0.0</td>\n",
       "      <td>0.0</td>\n",
       "      <td>0.0</td>\n",
       "      <td>0.0</td>\n",
       "      <td>1.0</td>\n",
       "    </tr>\n",
       "    <tr>\n",
       "      <th>Country_ Yugoslavia</th>\n",
       "      <td>16281.0</td>\n",
       "      <td>0.000430</td>\n",
       "      <td>0.020731</td>\n",
       "      <td>0.0</td>\n",
       "      <td>0.0</td>\n",
       "      <td>0.0</td>\n",
       "      <td>0.0</td>\n",
       "      <td>1.0</td>\n",
       "    </tr>\n",
       "  </tbody>\n",
       "</table>\n",
       "<p>105 rows × 8 columns</p>\n",
       "</div>"
      ],
      "text/plain": [
       "                                       count           mean            std  \\\n",
       "Age                                  16281.0      38.767459      13.849187   \n",
       "fnlwgt                               16281.0  189435.677784  105714.907671   \n",
       "Education_Num                        16281.0      10.072907       2.567545   \n",
       "Capital_Gain                         16281.0    1081.905104    7583.935968   \n",
       "Capital_Loss                         16281.0      87.899269     403.105286   \n",
       "Hours_per_week                       16281.0      40.392236      12.479332   \n",
       "Target                               16281.0       0.236226       0.424776   \n",
       "Workclass_ Federal-gov               16281.0       0.028991       0.167786   \n",
       "Workclass_ Local-gov                 16281.0       0.064062       0.244872   \n",
       "Workclass_ Never-worked              16281.0       0.000184       0.013574   \n",
       "Workclass_ Private                   16281.0       0.747681       0.434356   \n",
       "Workclass_ Self-emp-inc              16281.0       0.035563       0.185203   \n",
       "Workclass_ Self-emp-not-inc          16281.0       0.081138       0.273055   \n",
       "Workclass_ State-gov                 16281.0       0.041951       0.200483   \n",
       "Workclass_ Without-pay               16281.0       0.000430       0.020731   \n",
       "Education_ 10th                      16281.0       0.028008       0.165001   \n",
       "Education_ 11th                      16281.0       0.039125       0.193899   \n",
       "Education_ 12th                      16281.0       0.013758       0.116490   \n",
       "Education_ 1st-4th                   16281.0       0.004852       0.069491   \n",
       "Education_ 5th-6th                   16281.0       0.010810       0.103412   \n",
       "Education_ 7th-8th                   16281.0       0.018979       0.136456   \n",
       "Education_ 9th                       16281.0       0.014864       0.121012   \n",
       "Education_ Assoc-acdm                16281.0       0.032799       0.178116   \n",
       "Education_ Assoc-voc                 16281.0       0.041705       0.199920   \n",
       "Education_ Bachelors                 16281.0       0.163995       0.370282   \n",
       "Education_ Doctorate                 16281.0       0.011117       0.104854   \n",
       "Education_ HS-grad                   16281.0       0.324489       0.468198   \n",
       "Education_ Masters                   16281.0       0.057367       0.232551   \n",
       "Education_ Preschool                 16281.0       0.001965       0.044292   \n",
       "Education_ Prof-school               16281.0       0.015847       0.124886   \n",
       "...                                      ...            ...            ...   \n",
       "Country_ Germany                     16281.0       0.004238       0.064964   \n",
       "Country_ Greece                      16281.0       0.001228       0.035028   \n",
       "Country_ Guatemala                   16281.0       0.001474       0.038367   \n",
       "Country_ Haiti                       16281.0       0.001904       0.043595   \n",
       "Country_ Honduras                    16281.0       0.000430       0.020731   \n",
       "Country_ Hong                        16281.0       0.000614       0.024776   \n",
       "Country_ Hungary                     16281.0       0.000369       0.019194   \n",
       "Country_ India                       16281.0       0.003132       0.055883   \n",
       "Country_ Iran                        16281.0       0.000983       0.031334   \n",
       "Country_ Ireland                     16281.0       0.000798       0.028247   \n",
       "Country_ Italy                       16281.0       0.001965       0.044292   \n",
       "Country_ Jamaica                     16281.0       0.001536       0.039157   \n",
       "Country_ Japan                       16281.0       0.001843       0.042888   \n",
       "Country_ Laos                        16281.0       0.000307       0.017522   \n",
       "Country_ Mexico                      16281.0       0.018918       0.136239   \n",
       "Country_ Nicaragua                   16281.0       0.000921       0.030340   \n",
       "Country_ Outlying-US(Guam-USVI-etc)  16281.0       0.000553       0.023506   \n",
       "Country_ Peru                        16281.0       0.000921       0.030340   \n",
       "Country_ Philippines                 16281.0       0.005958       0.076959   \n",
       "Country_ Poland                      16281.0       0.001658       0.040691   \n",
       "Country_ Portugal                    16281.0       0.001843       0.042888   \n",
       "Country_ Puerto-Rico                 16281.0       0.004299       0.065431   \n",
       "Country_ Scotland                    16281.0       0.000553       0.023506   \n",
       "Country_ South                       16281.0       0.002150       0.046317   \n",
       "Country_ Taiwan                      16281.0       0.000860       0.029312   \n",
       "Country_ Thailand                    16281.0       0.000737       0.027140   \n",
       "Country_ Trinadad&Tobago             16281.0       0.000491       0.022162   \n",
       "Country_ United-States               16281.0       0.917388       0.275303   \n",
       "Country_ Vietnam                     16281.0       0.001167       0.034143   \n",
       "Country_ Yugoslavia                  16281.0       0.000430       0.020731   \n",
       "\n",
       "                                         min       25%       50%       75%  \\\n",
       "Age                                     17.0      28.0      37.0      48.0   \n",
       "fnlwgt                               13492.0  116736.0  177831.0  238384.0   \n",
       "Education_Num                            1.0       9.0      10.0      12.0   \n",
       "Capital_Gain                             0.0       0.0       0.0       0.0   \n",
       "Capital_Loss                             0.0       0.0       0.0       0.0   \n",
       "Hours_per_week                           1.0      40.0      40.0      45.0   \n",
       "Target                                   0.0       0.0       0.0       0.0   \n",
       "Workclass_ Federal-gov                   0.0       0.0       0.0       0.0   \n",
       "Workclass_ Local-gov                     0.0       0.0       0.0       0.0   \n",
       "Workclass_ Never-worked                  0.0       0.0       0.0       0.0   \n",
       "Workclass_ Private                       0.0       0.0       1.0       1.0   \n",
       "Workclass_ Self-emp-inc                  0.0       0.0       0.0       0.0   \n",
       "Workclass_ Self-emp-not-inc              0.0       0.0       0.0       0.0   \n",
       "Workclass_ State-gov                     0.0       0.0       0.0       0.0   \n",
       "Workclass_ Without-pay                   0.0       0.0       0.0       0.0   \n",
       "Education_ 10th                          0.0       0.0       0.0       0.0   \n",
       "Education_ 11th                          0.0       0.0       0.0       0.0   \n",
       "Education_ 12th                          0.0       0.0       0.0       0.0   \n",
       "Education_ 1st-4th                       0.0       0.0       0.0       0.0   \n",
       "Education_ 5th-6th                       0.0       0.0       0.0       0.0   \n",
       "Education_ 7th-8th                       0.0       0.0       0.0       0.0   \n",
       "Education_ 9th                           0.0       0.0       0.0       0.0   \n",
       "Education_ Assoc-acdm                    0.0       0.0       0.0       0.0   \n",
       "Education_ Assoc-voc                     0.0       0.0       0.0       0.0   \n",
       "Education_ Bachelors                     0.0       0.0       0.0       0.0   \n",
       "Education_ Doctorate                     0.0       0.0       0.0       0.0   \n",
       "Education_ HS-grad                       0.0       0.0       0.0       1.0   \n",
       "Education_ Masters                       0.0       0.0       0.0       0.0   \n",
       "Education_ Preschool                     0.0       0.0       0.0       0.0   \n",
       "Education_ Prof-school                   0.0       0.0       0.0       0.0   \n",
       "...                                      ...       ...       ...       ...   \n",
       "Country_ Germany                         0.0       0.0       0.0       0.0   \n",
       "Country_ Greece                          0.0       0.0       0.0       0.0   \n",
       "Country_ Guatemala                       0.0       0.0       0.0       0.0   \n",
       "Country_ Haiti                           0.0       0.0       0.0       0.0   \n",
       "Country_ Honduras                        0.0       0.0       0.0       0.0   \n",
       "Country_ Hong                            0.0       0.0       0.0       0.0   \n",
       "Country_ Hungary                         0.0       0.0       0.0       0.0   \n",
       "Country_ India                           0.0       0.0       0.0       0.0   \n",
       "Country_ Iran                            0.0       0.0       0.0       0.0   \n",
       "Country_ Ireland                         0.0       0.0       0.0       0.0   \n",
       "Country_ Italy                           0.0       0.0       0.0       0.0   \n",
       "Country_ Jamaica                         0.0       0.0       0.0       0.0   \n",
       "Country_ Japan                           0.0       0.0       0.0       0.0   \n",
       "Country_ Laos                            0.0       0.0       0.0       0.0   \n",
       "Country_ Mexico                          0.0       0.0       0.0       0.0   \n",
       "Country_ Nicaragua                       0.0       0.0       0.0       0.0   \n",
       "Country_ Outlying-US(Guam-USVI-etc)      0.0       0.0       0.0       0.0   \n",
       "Country_ Peru                            0.0       0.0       0.0       0.0   \n",
       "Country_ Philippines                     0.0       0.0       0.0       0.0   \n",
       "Country_ Poland                          0.0       0.0       0.0       0.0   \n",
       "Country_ Portugal                        0.0       0.0       0.0       0.0   \n",
       "Country_ Puerto-Rico                     0.0       0.0       0.0       0.0   \n",
       "Country_ Scotland                        0.0       0.0       0.0       0.0   \n",
       "Country_ South                           0.0       0.0       0.0       0.0   \n",
       "Country_ Taiwan                          0.0       0.0       0.0       0.0   \n",
       "Country_ Thailand                        0.0       0.0       0.0       0.0   \n",
       "Country_ Trinadad&Tobago                 0.0       0.0       0.0       0.0   \n",
       "Country_ United-States                   0.0       1.0       1.0       1.0   \n",
       "Country_ Vietnam                         0.0       0.0       0.0       0.0   \n",
       "Country_ Yugoslavia                      0.0       0.0       0.0       0.0   \n",
       "\n",
       "                                           max  \n",
       "Age                                       90.0  \n",
       "fnlwgt                               1490400.0  \n",
       "Education_Num                             16.0  \n",
       "Capital_Gain                           99999.0  \n",
       "Capital_Loss                            3770.0  \n",
       "Hours_per_week                            99.0  \n",
       "Target                                     1.0  \n",
       "Workclass_ Federal-gov                     1.0  \n",
       "Workclass_ Local-gov                       1.0  \n",
       "Workclass_ Never-worked                    1.0  \n",
       "Workclass_ Private                         1.0  \n",
       "Workclass_ Self-emp-inc                    1.0  \n",
       "Workclass_ Self-emp-not-inc                1.0  \n",
       "Workclass_ State-gov                       1.0  \n",
       "Workclass_ Without-pay                     1.0  \n",
       "Education_ 10th                            1.0  \n",
       "Education_ 11th                            1.0  \n",
       "Education_ 12th                            1.0  \n",
       "Education_ 1st-4th                         1.0  \n",
       "Education_ 5th-6th                         1.0  \n",
       "Education_ 7th-8th                         1.0  \n",
       "Education_ 9th                             1.0  \n",
       "Education_ Assoc-acdm                      1.0  \n",
       "Education_ Assoc-voc                       1.0  \n",
       "Education_ Bachelors                       1.0  \n",
       "Education_ Doctorate                       1.0  \n",
       "Education_ HS-grad                         1.0  \n",
       "Education_ Masters                         1.0  \n",
       "Education_ Preschool                       1.0  \n",
       "Education_ Prof-school                     1.0  \n",
       "...                                        ...  \n",
       "Country_ Germany                           1.0  \n",
       "Country_ Greece                            1.0  \n",
       "Country_ Guatemala                         1.0  \n",
       "Country_ Haiti                             1.0  \n",
       "Country_ Honduras                          1.0  \n",
       "Country_ Hong                              1.0  \n",
       "Country_ Hungary                           1.0  \n",
       "Country_ India                             1.0  \n",
       "Country_ Iran                              1.0  \n",
       "Country_ Ireland                           1.0  \n",
       "Country_ Italy                             1.0  \n",
       "Country_ Jamaica                           1.0  \n",
       "Country_ Japan                             1.0  \n",
       "Country_ Laos                              1.0  \n",
       "Country_ Mexico                            1.0  \n",
       "Country_ Nicaragua                         1.0  \n",
       "Country_ Outlying-US(Guam-USVI-etc)        1.0  \n",
       "Country_ Peru                              1.0  \n",
       "Country_ Philippines                       1.0  \n",
       "Country_ Poland                            1.0  \n",
       "Country_ Portugal                          1.0  \n",
       "Country_ Puerto-Rico                       1.0  \n",
       "Country_ Scotland                          1.0  \n",
       "Country_ South                             1.0  \n",
       "Country_ Taiwan                            1.0  \n",
       "Country_ Thailand                          1.0  \n",
       "Country_ Trinadad&Tobago                   1.0  \n",
       "Country_ United-States                     1.0  \n",
       "Country_ Vietnam                           1.0  \n",
       "Country_ Yugoslavia                        1.0  \n",
       "\n",
       "[105 rows x 8 columns]"
      ]
     },
     "execution_count": 34,
     "metadata": {},
     "output_type": "execute_result"
    }
   ],
   "source": [
    "data_test.describe(include='all').T"
   ]
  },
  {
   "cell_type": "code",
   "execution_count": 35,
   "metadata": {
    "collapsed": false,
    "deletable": true,
    "editable": true
   },
   "outputs": [
    {
     "data": {
      "text/plain": [
       "{'Country_ Holand-Netherlands'}"
      ]
     },
     "execution_count": 35,
     "metadata": {},
     "output_type": "execute_result"
    }
   ],
   "source": [
    "set(data_train.columns) - set(data_test.columns)"
   ]
  },
  {
   "cell_type": "code",
   "execution_count": 36,
   "metadata": {
    "collapsed": false,
    "deletable": true,
    "editable": true
   },
   "outputs": [
    {
     "data": {
      "text/plain": [
       "((32561, 106), (16281, 105))"
      ]
     },
     "execution_count": 36,
     "metadata": {},
     "output_type": "execute_result"
    }
   ],
   "source": [
    "data_train.shape, data_test.shape"
   ]
  },
  {
   "cell_type": "markdown",
   "metadata": {
    "deletable": true,
    "editable": true
   },
   "source": [
    "**В тестовой выборке не оказалось Голландии. Заведем необходимый признак из нулей.**"
   ]
  },
  {
   "cell_type": "code",
   "execution_count": 37,
   "metadata": {
    "collapsed": true,
    "deletable": true,
    "editable": true
   },
   "outputs": [],
   "source": [
    "data_test['Country_ Holand-Netherlands'] = np.zeros([data_test.shape[0], 1])"
   ]
  },
  {
   "cell_type": "code",
   "execution_count": 38,
   "metadata": {
    "collapsed": false,
    "deletable": true,
    "editable": true
   },
   "outputs": [
    {
     "data": {
      "text/plain": [
       "set()"
      ]
     },
     "execution_count": 38,
     "metadata": {},
     "output_type": "execute_result"
    }
   ],
   "source": [
    "set(data_train.columns) - set(data_test.columns)"
   ]
  },
  {
   "cell_type": "code",
   "execution_count": 39,
   "metadata": {
    "collapsed": false,
    "deletable": true,
    "editable": true
   },
   "outputs": [
    {
     "data": {
      "text/html": [
       "<div>\n",
       "<table border=\"1\" class=\"dataframe\">\n",
       "  <thead>\n",
       "    <tr style=\"text-align: right;\">\n",
       "      <th></th>\n",
       "      <th>Age</th>\n",
       "      <th>fnlwgt</th>\n",
       "      <th>Education_Num</th>\n",
       "      <th>Capital_Gain</th>\n",
       "      <th>Capital_Loss</th>\n",
       "      <th>Hours_per_week</th>\n",
       "      <th>Target</th>\n",
       "      <th>Workclass_ Federal-gov</th>\n",
       "      <th>Workclass_ Local-gov</th>\n",
       "      <th>Workclass_ Never-worked</th>\n",
       "      <th>...</th>\n",
       "      <th>Country_ Portugal</th>\n",
       "      <th>Country_ Puerto-Rico</th>\n",
       "      <th>Country_ Scotland</th>\n",
       "      <th>Country_ South</th>\n",
       "      <th>Country_ Taiwan</th>\n",
       "      <th>Country_ Thailand</th>\n",
       "      <th>Country_ Trinadad&amp;Tobago</th>\n",
       "      <th>Country_ United-States</th>\n",
       "      <th>Country_ Vietnam</th>\n",
       "      <th>Country_ Yugoslavia</th>\n",
       "    </tr>\n",
       "  </thead>\n",
       "  <tbody>\n",
       "    <tr>\n",
       "      <th>0</th>\n",
       "      <td>39</td>\n",
       "      <td>77516</td>\n",
       "      <td>13</td>\n",
       "      <td>2174</td>\n",
       "      <td>0</td>\n",
       "      <td>40</td>\n",
       "      <td>0</td>\n",
       "      <td>0</td>\n",
       "      <td>0</td>\n",
       "      <td>0</td>\n",
       "      <td>...</td>\n",
       "      <td>0</td>\n",
       "      <td>0</td>\n",
       "      <td>0</td>\n",
       "      <td>0</td>\n",
       "      <td>0</td>\n",
       "      <td>0</td>\n",
       "      <td>0</td>\n",
       "      <td>1</td>\n",
       "      <td>0</td>\n",
       "      <td>0</td>\n",
       "    </tr>\n",
       "    <tr>\n",
       "      <th>1</th>\n",
       "      <td>50</td>\n",
       "      <td>83311</td>\n",
       "      <td>13</td>\n",
       "      <td>0</td>\n",
       "      <td>0</td>\n",
       "      <td>13</td>\n",
       "      <td>0</td>\n",
       "      <td>0</td>\n",
       "      <td>0</td>\n",
       "      <td>0</td>\n",
       "      <td>...</td>\n",
       "      <td>0</td>\n",
       "      <td>0</td>\n",
       "      <td>0</td>\n",
       "      <td>0</td>\n",
       "      <td>0</td>\n",
       "      <td>0</td>\n",
       "      <td>0</td>\n",
       "      <td>1</td>\n",
       "      <td>0</td>\n",
       "      <td>0</td>\n",
       "    </tr>\n",
       "  </tbody>\n",
       "</table>\n",
       "<p>2 rows × 106 columns</p>\n",
       "</div>"
      ],
      "text/plain": [
       "   Age  fnlwgt  Education_Num  Capital_Gain  Capital_Loss  Hours_per_week  \\\n",
       "0   39   77516             13          2174             0              40   \n",
       "1   50   83311             13             0             0              13   \n",
       "\n",
       "   Target  Workclass_ Federal-gov  Workclass_ Local-gov  \\\n",
       "0       0                       0                     0   \n",
       "1       0                       0                     0   \n",
       "\n",
       "   Workclass_ Never-worked         ...           Country_ Portugal  \\\n",
       "0                        0         ...                           0   \n",
       "1                        0         ...                           0   \n",
       "\n",
       "   Country_ Puerto-Rico  Country_ Scotland  Country_ South  Country_ Taiwan  \\\n",
       "0                     0                  0               0                0   \n",
       "1                     0                  0               0                0   \n",
       "\n",
       "   Country_ Thailand  Country_ Trinadad&Tobago  Country_ United-States  \\\n",
       "0                  0                         0                       1   \n",
       "1                  0                         0                       1   \n",
       "\n",
       "   Country_ Vietnam  Country_ Yugoslavia  \n",
       "0                 0                    0  \n",
       "1                 0                    0  \n",
       "\n",
       "[2 rows x 106 columns]"
      ]
     },
     "execution_count": 39,
     "metadata": {},
     "output_type": "execute_result"
    }
   ],
   "source": [
    "data_train.head(2)"
   ]
  },
  {
   "cell_type": "code",
   "execution_count": 40,
   "metadata": {
    "collapsed": false,
    "deletable": true,
    "editable": true
   },
   "outputs": [
    {
     "data": {
      "text/html": [
       "<div>\n",
       "<table border=\"1\" class=\"dataframe\">\n",
       "  <thead>\n",
       "    <tr style=\"text-align: right;\">\n",
       "      <th></th>\n",
       "      <th>Age</th>\n",
       "      <th>fnlwgt</th>\n",
       "      <th>Education_Num</th>\n",
       "      <th>Capital_Gain</th>\n",
       "      <th>Capital_Loss</th>\n",
       "      <th>Hours_per_week</th>\n",
       "      <th>Target</th>\n",
       "      <th>Workclass_ Federal-gov</th>\n",
       "      <th>Workclass_ Local-gov</th>\n",
       "      <th>Workclass_ Never-worked</th>\n",
       "      <th>...</th>\n",
       "      <th>Country_ Puerto-Rico</th>\n",
       "      <th>Country_ Scotland</th>\n",
       "      <th>Country_ South</th>\n",
       "      <th>Country_ Taiwan</th>\n",
       "      <th>Country_ Thailand</th>\n",
       "      <th>Country_ Trinadad&amp;Tobago</th>\n",
       "      <th>Country_ United-States</th>\n",
       "      <th>Country_ Vietnam</th>\n",
       "      <th>Country_ Yugoslavia</th>\n",
       "      <th>Country_ Holand-Netherlands</th>\n",
       "    </tr>\n",
       "  </thead>\n",
       "  <tbody>\n",
       "    <tr>\n",
       "      <th>1</th>\n",
       "      <td>25</td>\n",
       "      <td>226802</td>\n",
       "      <td>7</td>\n",
       "      <td>0</td>\n",
       "      <td>0</td>\n",
       "      <td>40</td>\n",
       "      <td>0</td>\n",
       "      <td>0</td>\n",
       "      <td>0</td>\n",
       "      <td>0</td>\n",
       "      <td>...</td>\n",
       "      <td>0</td>\n",
       "      <td>0</td>\n",
       "      <td>0</td>\n",
       "      <td>0</td>\n",
       "      <td>0</td>\n",
       "      <td>0</td>\n",
       "      <td>1</td>\n",
       "      <td>0</td>\n",
       "      <td>0</td>\n",
       "      <td>0.0</td>\n",
       "    </tr>\n",
       "    <tr>\n",
       "      <th>2</th>\n",
       "      <td>38</td>\n",
       "      <td>89814</td>\n",
       "      <td>9</td>\n",
       "      <td>0</td>\n",
       "      <td>0</td>\n",
       "      <td>50</td>\n",
       "      <td>0</td>\n",
       "      <td>0</td>\n",
       "      <td>0</td>\n",
       "      <td>0</td>\n",
       "      <td>...</td>\n",
       "      <td>0</td>\n",
       "      <td>0</td>\n",
       "      <td>0</td>\n",
       "      <td>0</td>\n",
       "      <td>0</td>\n",
       "      <td>0</td>\n",
       "      <td>1</td>\n",
       "      <td>0</td>\n",
       "      <td>0</td>\n",
       "      <td>0.0</td>\n",
       "    </tr>\n",
       "  </tbody>\n",
       "</table>\n",
       "<p>2 rows × 106 columns</p>\n",
       "</div>"
      ],
      "text/plain": [
       "   Age  fnlwgt  Education_Num  Capital_Gain  Capital_Loss  Hours_per_week  \\\n",
       "1   25  226802              7             0             0              40   \n",
       "2   38   89814              9             0             0              50   \n",
       "\n",
       "   Target  Workclass_ Federal-gov  Workclass_ Local-gov  \\\n",
       "1       0                       0                     0   \n",
       "2       0                       0                     0   \n",
       "\n",
       "   Workclass_ Never-worked             ...               Country_ Puerto-Rico  \\\n",
       "1                        0             ...                                  0   \n",
       "2                        0             ...                                  0   \n",
       "\n",
       "   Country_ Scotland  Country_ South  Country_ Taiwan  Country_ Thailand  \\\n",
       "1                  0               0                0                  0   \n",
       "2                  0               0                0                  0   \n",
       "\n",
       "   Country_ Trinadad&Tobago  Country_ United-States  Country_ Vietnam  \\\n",
       "1                         0                       1                 0   \n",
       "2                         0                       1                 0   \n",
       "\n",
       "   Country_ Yugoslavia  Country_ Holand-Netherlands  \n",
       "1                    0                          0.0  \n",
       "2                    0                          0.0  \n",
       "\n",
       "[2 rows x 106 columns]"
      ]
     },
     "execution_count": 40,
     "metadata": {},
     "output_type": "execute_result"
    }
   ],
   "source": [
    "data_test.head(2)"
   ]
  },
  {
   "cell_type": "code",
   "execution_count": 41,
   "metadata": {
    "collapsed": false,
    "deletable": true,
    "editable": true
   },
   "outputs": [],
   "source": [
    "X_train=data_train.drop(['Target'], axis=1)\n",
    "y_train = data_train['Target']\n",
    "\n",
    "X_test=data_test.drop(['Target'], axis=1)\n",
    "y_test = data_test['Target']"
   ]
  },
  {
   "cell_type": "markdown",
   "metadata": {
    "deletable": true,
    "editable": true
   },
   "source": [
    "## 3.1. Дерево решений без настройки параметров "
   ]
  },
  {
   "cell_type": "markdown",
   "metadata": {
    "deletable": true,
    "editable": true
   },
   "source": [
    "**Обучите на имеющейся выборке дерево решений (`DecisionTreeClassifier`) максимальной глубины 3 и получите качество на тесте. Используйте параметр `random_state` = 17 для воспроизводимости результатов.**"
   ]
  },
  {
   "cell_type": "code",
   "execution_count": 42,
   "metadata": {
<<<<<<< HEAD
    "collapsed": false
=======
    "collapsed": true,
    "deletable": true,
    "editable": true
>>>>>>> upstream/master
   },
   "outputs": [
    {
     "data": {
      "text/plain": [
       "DecisionTreeClassifier(class_weight=None, criterion='gini', max_depth=3,\n",
       "            max_features=None, max_leaf_nodes=None,\n",
       "            min_impurity_split=1e-07, min_samples_leaf=1,\n",
       "            min_samples_split=2, min_weight_fraction_leaf=0.0,\n",
       "            presort=False, random_state=17, splitter='best')"
      ]
     },
     "execution_count": 42,
     "metadata": {},
     "output_type": "execute_result"
    }
   ],
   "source": [
    "tree = DecisionTreeClassifier(max_depth=3, random_state=17)\n",
    "tree.fit(X_train, y_train)"
   ]
  },
  {
   "cell_type": "markdown",
   "metadata": {
    "deletable": true,
    "editable": true
   },
   "source": [
    "**Сделайте с помощью полученной модели прогноз для тестовой выборки.**"
   ]
  },
  {
   "cell_type": "code",
   "execution_count": 43,
   "metadata": {
    "collapsed": true,
    "deletable": true,
    "editable": true
   },
   "outputs": [],
   "source": [
    "tree_predictions = tree.predict(X_test)"
   ]
  },
  {
   "cell_type": "code",
   "execution_count": 44,
   "metadata": {
    "collapsed": false,
    "deletable": true,
    "editable": true
   },
   "outputs": [
    {
     "data": {
      "text/plain": [
       "0.84478840366070884"
      ]
     },
     "execution_count": 44,
     "metadata": {},
     "output_type": "execute_result"
    }
   ],
   "source": [
    "accuracy_score(y_test, tree_predictions)"
   ]
  },
  {
   "cell_type": "markdown",
   "metadata": {
    "deletable": true,
    "editable": true
   },
   "source": [
    "<font color='red'>Вопрос 6.  </font> Какова доля правильных ответов дерева решений на тестовой выборке при максимальной глубине дерева = 3 и random_state = 17?"
   ]
  },
  {
   "cell_type": "markdown",
   "metadata": {
    "deletable": true,
    "editable": true
   },
   "source": [
    "*Answer:* **0.845**."
   ]
  },
  {
   "cell_type": "markdown",
   "metadata": {},
   "source": [
    "## 3.2. Дерево решений с настройкой параметров "
   ]
  },
  {
   "cell_type": "markdown",
   "metadata": {
    "deletable": true,
    "editable": true
   },
   "source": [
    "**Обучите на имеющейся выборке дерево решений (`DecisionTreeClassifier`, опять `random_state` = 17 ). Максимальную глубину настройте на кросс-валидации с помощью `GridSearchCV`. Проведите 5-кратную кросс-валидацию**"
   ]
  },
  {
   "cell_type": "code",
   "execution_count": 45,
   "metadata": {
<<<<<<< HEAD
    "collapsed": false
=======
    "collapsed": true,
    "deletable": true,
    "editable": true
>>>>>>> upstream/master
   },
   "outputs": [
    {
     "data": {
      "text/plain": [
       "GridSearchCV(cv=5, error_score='raise',\n",
       "       estimator=DecisionTreeClassifier(class_weight=None, criterion='gini', max_depth=None,\n",
       "            max_features=None, max_leaf_nodes=None,\n",
       "            min_impurity_split=1e-07, min_samples_leaf=1,\n",
       "            min_samples_split=2, min_weight_fraction_leaf=0.0,\n",
       "            presort=False, random_state=17, splitter='best'),\n",
       "       fit_params={}, iid=True, n_jobs=-1,\n",
       "       param_grid={'max_depth': range(2, 11)}, pre_dispatch='2*n_jobs',\n",
       "       refit=True, return_train_score=True, scoring=None, verbose=0)"
      ]
     },
     "execution_count": 45,
     "metadata": {},
     "output_type": "execute_result"
    }
   ],
   "source": [
    "tree_params = {'max_depth': range(2,11)}\n",
    "\n",
    "locally_best_tree = GridSearchCV(DecisionTreeClassifier(random_state=17), tree_params, cv=5, n_jobs=-1)\n",
    "\n",
    "locally_best_tree.fit(X_train, y_train)"
   ]
  },
  {
   "cell_type": "code",
   "execution_count": 46,
   "metadata": {
<<<<<<< HEAD
    "collapsed": false
=======
    "collapsed": true,
    "deletable": true,
    "editable": true
>>>>>>> upstream/master
   },
   "outputs": [
    {
     "name": "stdout",
     "output_type": "stream",
     "text": [
      "Best params: {'max_depth': 9}\n",
      "Best cross validaton score 0.856576886459\n"
     ]
    }
   ],
   "source": [
    "print(\"Best params:\", locally_best_tree.best_params_)\n",
    "print(\"Best cross validaton score\", locally_best_tree.best_score_)"
   ]
  },
  {
   "cell_type": "markdown",
   "metadata": {
    "deletable": true,
    "editable": true
   },
   "source": [
    "**Обучите на имеющейся выборке дерево решений максимальной глубины 9 (это лучшее значение `max_depth` в моем случае) и   оцените долю правильных ответов на тесте. Используйте параметр random_state = 17 для воспроизводимости результатов.**"
   ]
  },
  {
   "cell_type": "code",
   "execution_count": 47,
   "metadata": {
<<<<<<< HEAD
    "collapsed": false
=======
    "collapsed": true,
    "deletable": true,
    "editable": true
>>>>>>> upstream/master
   },
   "outputs": [
    {
     "data": {
      "text/plain": [
       "0.84799999999999998"
      ]
     },
     "execution_count": 47,
     "metadata": {},
     "output_type": "execute_result"
    }
   ],
   "source": [
    "tuned_tree = DecisionTreeClassifier(max_depth=9, random_state=17)\n",
    "tuned_tree.fit(X_train, y_train)\n",
    "tuned_tree_predictions = tuned_tree.predict(X_test)\n",
    "v = accuracy_score(y_test, tuned_tree_predictions)\n",
    "round(v, 3)"
   ]
  },
  {
   "cell_type": "markdown",
   "metadata": {
    "deletable": true,
    "editable": true
   },
   "source": [
    "<font color='red'>Вопрос 7.  </font> Какова доля правильных ответов дерева решений на тестовой выборке при максимальной глубине дерева = 9 и random_state = 17?"
   ]
  },
  {
   "cell_type": "markdown",
   "metadata": {
    "deletable": true,
    "editable": true
   },
   "source": [
    "*Answer:* **0.848**."
   ]
  },
  {
   "cell_type": "markdown",
   "metadata": {},
   "source": [
    "## 3.3. Случайный лес без настройки параметров  (опционально)¶"
   ]
  },
  {
   "cell_type": "markdown",
   "metadata": {
    "deletable": true,
    "editable": true
   },
   "source": [
    "**Немного забежим вперед и попробуем в нашей задаче случайный лес. Пока можно его себе представлять, как куча деревьев решений, обученных на немного разных подвыборках исходной обучающей выборки, причем эта куча деревьев обычно работает существенно лучше, чем отдельные деревья. **\n",
    "\n",
    "**Обучите на имеющейся выборке случайный лес (`RandomForestClassifier`), число деревьев сделайте равным ста, а `random_state` = 17.**"
   ]
  },
  {
   "cell_type": "code",
   "execution_count": 48,
   "metadata": {
<<<<<<< HEAD
    "collapsed": false
=======
    "collapsed": true,
    "deletable": true,
    "editable": true
>>>>>>> upstream/master
   },
   "outputs": [
    {
     "data": {
      "text/plain": [
       "RandomForestClassifier(bootstrap=True, class_weight=None, criterion='gini',\n",
       "            max_depth=None, max_features='auto', max_leaf_nodes=None,\n",
       "            min_impurity_split=1e-07, min_samples_leaf=1,\n",
       "            min_samples_split=2, min_weight_fraction_leaf=0.0,\n",
       "            n_estimators=100, n_jobs=1, oob_score=False, random_state=17,\n",
       "            verbose=0, warm_start=False)"
      ]
     },
     "execution_count": 48,
     "metadata": {},
     "output_type": "execute_result"
    }
   ],
   "source": [
<<<<<<< HEAD
    "rf = RandomForestClassifier(n_estimators=100, random_state=17)\n",
    "rf.fit(X_train, y_train)"
=======
    "rf = # Ваш код здесь\n",
    "rf.fit # Ваш код здесь"
>>>>>>> upstream/master
   ]
  },
  {
   "cell_type": "markdown",
   "metadata": {
    "deletable": true,
    "editable": true
   },
   "source": [
    "**Сделайте с помощью полученной модели прогноз для тестовой выборки.**"
   ]
  },
  {
   "cell_type": "code",
   "execution_count": 49,
   "metadata": {
    "collapsed": true,
    "deletable": true,
    "editable": true
   },
   "outputs": [],
   "source": [
    "forest_predictions = rf.predict(X_test)"
   ]
  },
  {
   "cell_type": "code",
   "execution_count": 50,
   "metadata": {
<<<<<<< HEAD
    "collapsed": false
=======
    "collapsed": true,
    "deletable": true,
    "editable": true
>>>>>>> upstream/master
   },
   "outputs": [
    {
     "data": {
      "text/plain": [
       "0.85854677231128307"
      ]
     },
     "execution_count": 50,
     "metadata": {},
     "output_type": "execute_result"
    }
   ],
   "source": [
    "accuracy_score(y_test, forest_predictions)"
   ]
  },
  {
   "cell_type": "markdown",
   "metadata": {
    "deletable": true,
    "editable": true
   },
   "source": [
    "## 3.4. Случайный лес с настройкой параметров  (опционально)"
   ]
  },
  {
   "cell_type": "markdown",
   "metadata": {
    "deletable": true,
    "editable": true
   },
   "source": [
    "**Обучите на имеющейся выборке случайный лес (`RandomForestClassifier`). Максимальную глубину и максимальное число признаков для каждого дерева настройте с помощью GridSearchCV.**"
   ]
  },
  {
   "cell_type": "code",
   "execution_count": 51,
   "metadata": {
<<<<<<< HEAD
    "collapsed": false
=======
    "collapsed": true,
    "deletable": true,
    "editable": true
>>>>>>> upstream/master
   },
   "outputs": [
    {
     "data": {
      "text/plain": [
       "GridSearchCV(cv=None, error_score='raise',\n",
       "       estimator=RandomForestClassifier(bootstrap=True, class_weight=None, criterion='gini',\n",
       "            max_depth=None, max_features='auto', max_leaf_nodes=None,\n",
       "            min_impurity_split=1e-07, min_samples_leaf=1,\n",
       "            min_samples_split=2, min_weight_fraction_leaf=0.0,\n",
       "            n_estimators=100, n_jobs=1, oob_score=False, random_state=17,\n",
       "            verbose=0, warm_start=False),\n",
       "       fit_params={}, iid=True, n_jobs=-1,\n",
       "       param_grid={'max_depth': range(10, 21), 'max_features': range(5, 105, 10)},\n",
       "       pre_dispatch='2*n_jobs', refit=True, return_train_score=True,\n",
       "       scoring=None, verbose=0)"
      ]
     },
     "execution_count": 51,
     "metadata": {},
     "output_type": "execute_result"
    }
   ],
   "source": [
    "forest_params = {'max_depth': range(10, 21),\n",
    "                'max_features': range(5, 105, 10)}\n",
    "\n",
    "locally_best_forest = GridSearchCV(RandomForestClassifier(n_estimators=100, random_state=17), forest_params, n_jobs=-1)\n",
    "\n",
    "locally_best_forest.fit(X_train, y_train)"
   ]
  },
  {
   "cell_type": "code",
   "execution_count": 52,
   "metadata": {
<<<<<<< HEAD
    "collapsed": false
=======
    "collapsed": true,
    "deletable": true,
    "editable": true
>>>>>>> upstream/master
   },
   "outputs": [
    {
     "name": "stdout",
     "output_type": "stream",
     "text": [
      "Best params: {'max_depth': 20, 'max_features': 15}\n",
      "Best cross validaton score 0.865176130954\n"
     ]
    }
   ],
   "source": [
    "print(\"Best params:\", locally_best_forest.best_params_)\n",
    "print(\"Best cross validaton score\", locally_best_forest.best_score_)"
   ]
  },
  {
   "cell_type": "markdown",
   "metadata": {
    "deletable": true,
    "editable": true
   },
   "source": [
    "**Сделайте с помощью полученной модели прогноз для тестовой выборки.**"
   ]
  },
  {
   "cell_type": "code",
   "execution_count": 53,
   "metadata": {
<<<<<<< HEAD
    "collapsed": false
=======
    "collapsed": true,
    "deletable": true,
    "editable": true
>>>>>>> upstream/master
   },
   "outputs": [
    {
     "data": {
      "text/plain": [
       "0.86296910509182478"
      ]
     },
     "execution_count": 53,
     "metadata": {},
     "output_type": "execute_result"
    }
   ],
   "source": [
    "tuned_forest_predictions = locally_best_forest.predict(X_test)\n",
    "accuracy_score(y_test, tuned_forest_predictions)"
   ]
  }
 ],
 "metadata": {
  "kernelspec": {
   "display_name": "Python 3",
   "language": "python",
   "name": "python3"
  },
  "language_info": {
   "codemirror_mode": {
    "name": "ipython",
    "version": 3
   },
   "file_extension": ".py",
   "mimetype": "text/x-python",
   "name": "python",
   "nbconvert_exporter": "python",
   "pygments_lexer": "ipython3",
   "version": "3.6.1"
  }
 },
 "nbformat": 4,
 "nbformat_minor": 0
}
